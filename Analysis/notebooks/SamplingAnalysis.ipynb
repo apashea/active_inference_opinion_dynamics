{
 "cells": [
  {
   "cell_type": "code",
   "execution_count": 3,
   "source": [
    "from param_analysis import ParameterAnalysis\n",
    "from plots import *"
   ],
   "outputs": [],
   "metadata": {}
  },
  {
   "cell_type": "markdown",
   "source": [
    "What I have found so far is that with really high ecb values like 9, agents make up their mind super quickly. then they only tweet one thing no matter what they read, they end up tweeting whatever is the majority belief of their neighbours, and they don't bother choosing not to sample the agents that disagree because the amount which these agents affect their beliefs has negligible towards actually changing opinion. "
   ],
   "metadata": {}
  },
  {
   "cell_type": "markdown",
   "source": [
    "In contrast with lower ecb values like 5, agents can tend to never make up their minds. "
   ],
   "metadata": {}
  },
  {
   "cell_type": "code",
   "execution_count": 5,
   "source": [
    "import numpy as np\n",
    "import matplotlib.pyplot as plt"
   ],
   "outputs": [],
   "metadata": {}
  },
  {
   "cell_type": "code",
   "execution_count": 6,
   "source": [
    "def obj_array(shape):\n",
    "    \n",
    "    return np.empty(shape, dtype=object)\n",
    "\n",
    "all_parameters_to_store = obj_array((30, 4,4,4,4,4, 4, 4))\n",
    "all_results_to_store = obj_array((30, 4,4,4,4,4, 4, 4))\n"
   ],
   "outputs": [],
   "metadata": {}
  },
  {
   "cell_type": "code",
   "execution_count": 7,
   "source": [
    "all_results_to_store[0,0,0,0,0,0,0,0] = 0.5"
   ],
   "outputs": [],
   "metadata": {}
  },
  {
   "cell_type": "code",
   "execution_count": 1,
   "source": [
    "\n",
    "\n",
    "connectedness_values = [0.3,0.5,0.7,0.8]\n",
    "ecb_precision_gammas = [7,8,9]\n",
    "\n",
    "num_agent_values = [6,7,8,9]\n",
    "\n",
    "n = len(num_agent_values)\n",
    "c = len(connectedness_values)\n",
    "#precision_ranges = [[1,2],[1,5],[1,9],[6,7],[6,10]]\n",
    "env_precision_gammas = [10]\n",
    "b_precision_gammas = [3,4,5,6,7,8]\n",
    "\n",
    "n_trials = 30"
   ],
   "outputs": [],
   "metadata": {}
  },
  {
   "cell_type": "code",
   "execution_count": 2,
   "source": [
    "params = ParameterAnalysis('results/testr2.npz','results/testp2.npz', num_agent_values, connectedness_values, ecb_precision_gammas, env_precision_gammas, b_precision_gammas, n_trials)"
   ],
   "outputs": [
    {
     "output_type": "error",
     "ename": "NameError",
     "evalue": "name 'ParameterAnalysis' is not defined",
     "traceback": [
      "\u001b[0;31m---------------------------------------------------------------------------\u001b[0m",
      "\u001b[0;31mNameError\u001b[0m                                 Traceback (most recent call last)",
      "\u001b[0;32m<ipython-input-2-0755ddd459f2>\u001b[0m in \u001b[0;36m<module>\u001b[0;34m\u001b[0m\n\u001b[0;32m----> 1\u001b[0;31m \u001b[0mparams\u001b[0m \u001b[0;34m=\u001b[0m \u001b[0mParameterAnalysis\u001b[0m\u001b[0;34m(\u001b[0m\u001b[0;34m'results/testr2.npz'\u001b[0m\u001b[0;34m,\u001b[0m\u001b[0;34m'results/testp2.npz'\u001b[0m\u001b[0;34m,\u001b[0m \u001b[0mnum_agent_values\u001b[0m\u001b[0;34m,\u001b[0m \u001b[0mconnectedness_values\u001b[0m\u001b[0;34m,\u001b[0m \u001b[0mecb_precision_gammas\u001b[0m\u001b[0;34m,\u001b[0m \u001b[0menv_precision_gammas\u001b[0m\u001b[0;34m,\u001b[0m \u001b[0mb_precision_gammas\u001b[0m\u001b[0;34m,\u001b[0m \u001b[0mn_trials\u001b[0m\u001b[0;34m)\u001b[0m\u001b[0;34m\u001b[0m\u001b[0;34m\u001b[0m\u001b[0m\n\u001b[0m",
      "\u001b[0;31mNameError\u001b[0m: name 'ParameterAnalysis' is not defined"
     ]
    }
   ],
   "metadata": {}
  },
  {
   "cell_type": "code",
   "execution_count": 5,
   "source": [
    "params.n_d.value = num_agent_values[1]\n",
    "params.env_d.value = env_precision_gammas[0]\n",
    "params.b_d.value = b_precision_gammas[0]\n",
    "params.c_d.value = connectedness_values[1]\n",
    "params.ecb_d.value = ecb_precision_gammas[-1]"
   ],
   "outputs": [],
   "metadata": {}
  },
  {
   "cell_type": "code",
   "execution_count": 6,
   "source": [
    "params.param_results.shape"
   ],
   "outputs": [
    {
     "output_type": "execute_result",
     "data": {
      "text/plain": [
       "(30, 3, 7, 6, 6, 6)"
      ]
     },
     "metadata": {},
     "execution_count": 6
    }
   ],
   "metadata": {}
  },
  {
   "cell_type": "code",
   "execution_count": 7,
   "source": [
    "params.get_overall_metrics()"
   ],
   "outputs": [
    {
     "output_type": "stream",
     "name": "stderr",
     "text": [
      "/vol/bitbucket/att21/venv/lib/python3.8/site-packages/numpy/core/fromnumeric.py:3419: RuntimeWarning: Mean of empty slice.\n",
      "  return _methods._mean(a, axis=axis, dtype=dtype,\n",
      "/vol/bitbucket/att21/venv/lib/python3.8/site-packages/numpy/core/_methods.py:180: RuntimeWarning: invalid value encountered in true_divide\n",
      "  ret = um.true_divide(\n",
      "/vol/bitbucket/att21/venv/lib/python3.8/site-packages/numpy/core/_methods.py:188: RuntimeWarning: invalid value encountered in double_scalars\n",
      "  ret = ret.dtype.type(ret / rcount)\n"
     ]
    }
   ],
   "metadata": {}
  },
  {
   "cell_type": "code",
   "execution_count": 8,
   "source": [
    "def get_params(param_values):\n",
    "    n = num_agent_values.index(param_values[0])\n",
    "    c = connectedness_values.index(param_values[1])\n",
    "    ecb = ecb_precision_gammas.index(param_values[2])\n",
    "    env = 0\n",
    "    b = 0\n",
    "    ecb_precision = params.param_results[0,n,c,ecb,env,b][0][0]\n",
    "    env_precision = params.param_results[0,n,c,ecb,env,b][0][1]\n",
    "    b_precision = params.param_results[0,n,c,ecb,env,b][0][2]\n",
    "    idea_mappings = [params.param_results[0,n,c,ecb,env,b][i][3] for i in range(param_values[0])]\n",
    "    return (ecb_precision, env_precision, b_precision),idea_mappings"
   ],
   "outputs": [],
   "metadata": {}
  },
  {
   "cell_type": "code",
   "execution_count": 9,
   "source": [
    "lowest_db_index = np.where(params.db_indices == min(params.db_indices))[0][0]\n",
    "\n",
    "print(\"Lowest DB index\")\n",
    "db_params = list(params.get_param_combinations())[lowest_db_index]\n",
    "print(db_params)\n",
    "print(params.db_indices[lowest_db_index])\n",
    "print(get_params(db_params))\n"
   ],
   "outputs": [
    {
     "output_type": "stream",
     "name": "stdout",
     "text": [
      "Lowest DB index\n",
      "(8, 0.2, 5, 5, 10)\n",
      "0.4482541874142912\n",
      "((array(6.27173834), array(8.48433653), array(1.18447132)), [array([[0.85470169, 0.14529831],\n",
      "       [0.14529831, 0.85470169]]), array([[0.90540689, 0.09459311],\n",
      "       [0.09459311, 0.90540689]]), array([[0.94255064, 0.05744936],\n",
      "       [0.05744936, 0.94255064]]), array([[0.64475922, 0.35524078],\n",
      "       [0.35524078, 0.64475922]]), array([[0.61634455, 0.38365545],\n",
      "       [0.38365545, 0.61634455]]), array([[0.81716899, 0.18283101],\n",
      "       [0.18283101, 0.81716899]]), array([[0.93133855, 0.06866145],\n",
      "       [0.06866145, 0.93133855]]), array([[0.87971106, 0.12028894],\n",
      "       [0.12028894, 0.87971106]])])\n"
     ]
    }
   ],
   "metadata": {}
  },
  {
   "cell_type": "code",
   "execution_count": 10,
   "source": [
    "clustering_data = {}\n",
    "\n",
    "for c in connectedness_values:\n",
    "    #find all parameter combinations with this connectedness value\n",
    "    c_indices = np.where(np.isin(np.array(list(params.get_param_combinations()))[:,1],c))[0]\n",
    "    #what are the db indices for these parameters?\n",
    "    c_db_indices = params.db_indices[c_indices]\n",
    "    #what is the smallest one?\n",
    "    lowest_db_index = np.where(c_db_indices == min(c_db_indices))[0][0]\n",
    "    highest_db_index = np.where(c_db_indices == max(c_db_indices))[0][0]\n",
    "    #print(c_db_indices[lowest_db_index])\n",
    "    \n",
    "    #what is the parameter combination that results in the smallest one?\n",
    "    optimal_params = list(params.get_param_combinations())[c_indices[lowest_db_index]]\n",
    "    suboptimal_params = list(params.get_param_combinations())[c_indices[highest_db_index]]\n",
    "   # (ecb_precision_opt, env_precision_opt, b_precision_opt),idea_mappings_opt = get_params(optimal_params)\n",
    " #   (ecb_precision_sopt, env_precision_sopt, b_precision_sopt),idea_mappings_sopt = get_params(suboptimal_params)\n",
    "\n",
    "    \n",
    "    clustering_data[c] = {\"optimal_params\" : optimal_params, \"lowest_db\":c_db_indices[lowest_db_index],\n",
    "                         # \"real_params_opt\" : (ecb_precision_opt, env_precision_opt, b_precision_opt),\n",
    "                          \n",
    "                         \"suboptimal_params\": suboptimal_params, \"highest_db\" : c_db_indices[highest_db_index]}\n",
    "                         \n",
    "                        # \"real_params_subopt\": (ecb_precision_sopt, env_precision_sopt, b_precision_sopt) }\n",
    "\n"
   ],
   "outputs": [],
   "metadata": {}
  },
  {
   "cell_type": "code",
   "execution_count": 11,
   "source": [
    "#officially confirmed that high ECB leads to clustering, low ECB leads to no clustering. \n",
    "#any sparseness can lead to clustering, but generally lots of agents in a sparse graphleads to clustering, and less agents in a non sparse graph leads to no clustering\n",
    "\n",
    "#the question now is: why?"
   ],
   "outputs": [],
   "metadata": {}
  },
  {
   "cell_type": "code",
   "execution_count": 12,
   "source": [
    "clustering_data"
   ],
   "outputs": [
    {
     "output_type": "execute_result",
     "data": {
      "text/plain": [
       "{0.2: {'optimal_params': (8, 0.2, 5, 5, 10),\n",
       "  'lowest_db': 0.4482541874142912,\n",
       "  'suboptimal_params': (4, 0.2, 8, 5, 10),\n",
       "  'highest_db': 0.9351897155891004},\n",
       " 0.3: {'optimal_params': (8, 0.3, 4, 5, 10),\n",
       "  'lowest_db': 0.4701443591370528,\n",
       "  'suboptimal_params': (4, 0.3, 8, 5, 10),\n",
       "  'highest_db': 0.9666666667897383},\n",
       " 0.4: {'optimal_params': (4, 0.4, 4, 5, 10),\n",
       "  'lowest_db': 0.5481881683186212,\n",
       "  'suboptimal_params': (4, 0.4, 7, 5, 10),\n",
       "  'highest_db': 0.985566270133593},\n",
       " 0.5: {'optimal_params': (6, 0.5, 4, 5, 10),\n",
       "  'lowest_db': 0.6216354675291875,\n",
       "  'suboptimal_params': (4, 0.5, 8, 5, 10),\n",
       "  'highest_db': 1.0},\n",
       " 0.6: {'optimal_params': (8, 0.6, 4, 5, 10),\n",
       "  'lowest_db': 0.5962219357850361,\n",
       "  'suboptimal_params': (4, 0.6, 9, 5, 10),\n",
       "  'highest_db': 1.0},\n",
       " 0.7: {'optimal_params': (8, 0.7, 4, 5, 10),\n",
       "  'lowest_db': 0.5595113332785628,\n",
       "  'suboptimal_params': (6, 0.7, 7, 5, 10),\n",
       "  'highest_db': 0.9734854000740787},\n",
       " 0.8: {'optimal_params': (8, 0.8, 4, 5, 10),\n",
       "  'lowest_db': 0.6237408738133976,\n",
       "  'suboptimal_params': (6, 0.8, 9, 5, 10),\n",
       "  'highest_db': 1.0}}"
      ]
     },
     "metadata": {},
     "execution_count": 12
    }
   ],
   "metadata": {}
  },
  {
   "cell_type": "code",
   "execution_count": 13,
   "source": [
    "clustering_data = {}\n",
    "\n",
    "for ecb in ecb_precision_gammas:\n",
    "    #find all parameter combinations with this connectedness value\n",
    "    ecb_indices = np.where(np.isin(np.array(list(params.get_param_combinations()))[:,2],ecb))[0]\n",
    "    #what are the db indices for these parameters?\n",
    "    ecb_db_indices = params.db_indices[ecb_indices]\n",
    "    \n",
    "    #what is the smallest one?\n",
    "    lowest_db_index = np.where(ecb_db_indices == min(ecb_db_indices))[0][0]\n",
    "    highest_db_index = np.where(ecb_db_indices == max(ecb_db_indices))[0][0]\n",
    "    #print(c_db_indices[lowest_db_index])\n",
    "        #what is the parameter combination that results in the smallest one?\n",
    "    optimal_params = list(params.get_param_combinations())[ecb_indices[lowest_db_index]]\n",
    "    suboptimal_params = list(params.get_param_combinations())[ecb_indices[highest_db_index]]\n",
    "    #(ecb_precision_opt, env_precision_opt, b_precision_opt),idea_mappings_opt = get_params(optimal_params)\n",
    "    #(ecb_precision_sopt, env_precision_sopt, b_precision_sopt),idea_mappings_sopt = get_params(suboptimal_params)\n",
    "\n",
    "    \n",
    "    clustering_data[ecb] = {\"optimal_params\" : optimal_params, \"lowest_db\":ecb_db_indices[lowest_db_index],\n",
    "                       #   \"real_params_opt\" : (ecb_precision_opt, env_precision_opt, b_precision_opt),\n",
    "                          \n",
    "                         \"suboptimal_params\": suboptimal_params, \"highest_db\" : ecb_db_indices[highest_db_index]}\n",
    "                         \n",
    "                      #   \"real_params_subopt\": (ecb_precision_sopt, env_precision_sopt, b_precision_sopt) }\n",
    "\n"
   ],
   "outputs": [],
   "metadata": {}
  },
  {
   "cell_type": "code",
   "execution_count": 14,
   "source": [
    "def similarity_matrix(belief_hist):\n",
    "    T = belief_hist.shape[0]\n",
    "\n",
    "    KLD_intra_beliefs = get_KLDs(belief_hist)\n",
    "    believers = np.where(belief_hist[-1,0,:] > 0.5)\n",
    "    nonbelievers = np.where(belief_hist[-1,0,:] < 0.5)\n",
    "    cluster_sorted_indices = [i for i in believers[0]]\n",
    "    for j in nonbelievers[0]:\n",
    "        cluster_sorted_indices.append(j)\n",
    "\n",
    "    \n",
    "    color_map = plt.cm.get_cmap('gray').reversed()\n",
    "\n",
    "\n",
    "    single_slice = KLD_intra_beliefs[:,:,-1]\n",
    "    sorted_slice = single_slice[cluster_sorted_indices,:][:,cluster_sorted_indices]\n",
    "    plt.imshow(sorted_slice, cmap = color_map)\n",
    "    plt.title(\"Belief similarity matrix\")\n",
    "    plt.show()\n",
    "    plt.clf()"
   ],
   "outputs": [],
   "metadata": {}
  },
  {
   "cell_type": "code",
   "execution_count": 15,
   "source": [
    "clustering_data"
   ],
   "outputs": [
    {
     "output_type": "execute_result",
     "data": {
      "text/plain": [
       "{4: {'optimal_params': (8, 0.3, 4, 5, 10),\n",
       "  'lowest_db': 0.4701443591370528,\n",
       "  'suboptimal_params': (4, 0.8, 4, 5, 10),\n",
       "  'highest_db': 0.8355244512737297},\n",
       " 5: {'optimal_params': (8, 0.2, 5, 5, 10),\n",
       "  'lowest_db': 0.4482541874142912,\n",
       "  'suboptimal_params': (4, 0.8, 5, 5, 10),\n",
       "  'highest_db': 0.9055974803966914},\n",
       " 6: {'optimal_params': (8, 0.2, 6, 5, 10),\n",
       "  'lowest_db': 0.6546700028082587,\n",
       "  'suboptimal_params': (6, 0.8, 6, 5, 10),\n",
       "  'highest_db': 0.942341356494786},\n",
       " 7: {'optimal_params': (6, 0.4, 7, 5, 10),\n",
       "  'lowest_db': 0.6184238263794098,\n",
       "  'suboptimal_params': (4, 0.4, 7, 5, 10),\n",
       "  'highest_db': 0.985566270133593},\n",
       " 8: {'optimal_params': (8, 0.2, 8, 5, 10),\n",
       "  'lowest_db': 0.613248453186691,\n",
       "  'suboptimal_params': (4, 0.5, 8, 5, 10),\n",
       "  'highest_db': 1.0},\n",
       " 9: {'optimal_params': (8, 0.2, 9, 5, 10),\n",
       "  'lowest_db': 0.571753836263273,\n",
       "  'suboptimal_params': (4, 0.6, 9, 5, 10),\n",
       "  'highest_db': 1.0}}"
      ]
     },
     "metadata": {},
     "execution_count": 15
    }
   ],
   "metadata": {}
  },
  {
   "cell_type": "code",
   "execution_count": 16,
   "source": [
    "optimal_params = [8, 0.6, 9, 5, 10]\n",
    "params.update_params(optimal_params)\n",
    "params.get_all_sim_results_from_parameters()\n",
    "beliefs = params.all_qs\n",
    "kld_matrices = similarity_matrix(beliefs[16,:,:,:])"
   ],
   "outputs": [
    {
     "output_type": "display_data",
     "data": {
      "text/plain": [
       "<Figure size 432x288 with 1 Axes>"
      ],
      "image/png": "[encoded data removed]"
     },
     "metadata": {
      "needs_background": "light"
     }
    },
    {
     "output_type": "display_data",
     "data": {
      "text/plain": [
       "<Figure size 432x288 with 0 Axes>"
      ]
     },
     "metadata": {}
    }
   ],
   "metadata": {}
  },
  {
   "cell_type": "code",
   "execution_count": 17,
   "source": [
    "def get_agent_data(agent, result, cluster1, cluster2):\n",
    "    agent_adj_mat = result['adj_mat'][:,agent,:]\n",
    "    agent_beliefs = result['all_qs'][:,:,:,agent]\n",
    "    agent_samplings = result['all_neighbour_sampling'][:,:,agent]\n",
    "    agent_tweets = result['all_tweets'][:,:,agent]\n",
    "    agent_cluster = cluster1[0] if agent in cluster1[0] else cluster2[0]\n",
    "    other_cluster = cluster1[0] if agent not in cluster1[0] else cluster2[0]\n",
    "    neighbours = list(is_connected(agent_adj_mat[0])[0])\n",
    "    outsider_neighbours = np.intersect1d(neighbours, other_cluster)\n",
    "    insider_neighbours = np.intersect1d(neighbours, agent_cluster)\n",
    "    \n",
    "    agent_data = (agent_adj_mat, agent_beliefs, agent_samplings, agent_tweets, agent_cluster, other_cluster, neighbours, outsider_neighbours, insider_neighbours)\n",
    "    return agent_data\n",
    "\n",
    "def find_one_agent_two_neighbours_opposite_cluster(parameters, condition = True, trial = None, agent = None):\n",
    "    params.update_params(parameters)\n",
    "    beliefs = params.all_qs\n",
    "    result = params.get_all_sim_results_from_parameters()\n",
    "    if condition == True:\n",
    "        for trial in range(30):\n",
    "            #what are the clusters? \n",
    "            all_beliefs_t = beliefs[trial,:,:,:] \n",
    "            cluster1 = np.where(all_beliefs_t[-1,1,:] > 0.5)\n",
    "            cluster2 = np.where(all_beliefs_t[-1,1,:] < 0.5)\n",
    "            for agent in range(parameters[0]):\n",
    "                agent_data = get_agent_data(agent,result, cluster1, cluster2)\n",
    "                if len(agent_data[-3]) == 2 and len(agent_data[-2]) == 1 and len(agent_data[-1]) == 1:\n",
    "                    print(\"Found condition!\")\n",
    "                    return result, trial, agent, cluster1, cluster2, agent_data\n",
    "    else:\n",
    "        all_beliefs_t = beliefs[trial,:,:,:] \n",
    "        cluster1 = np.where(all_beliefs_t[-1,1,:] > 0.5)\n",
    "        cluster2 = np.where(all_beliefs_t[-1,1,:] < 0.5)\n",
    "        agent_data = get_agent_data(agent,result, cluster1, cluster2)\n",
    "                    \n",
    "        return result, trial, agent, cluster1, cluster2, agent_data\n",
    "            "
   ],
   "outputs": [],
   "metadata": {}
  },
  {
   "cell_type": "code",
   "execution_count": 18,
   "source": [
    "def is_connected(adj_mat):\n",
    "    return np.where(adj_mat == 1)"
   ],
   "outputs": [],
   "metadata": {}
  },
  {
   "cell_type": "code",
   "execution_count": 54,
   "source": [
    "test_params = [4, 0.3, 5, 5, 10]\n",
    "params.update_params(test_params)\n",
    "beliefs = params.all_qs\n"
   ],
   "outputs": [],
   "metadata": {}
  },
  {
   "cell_type": "code",
   "execution_count": 67,
   "source": [
    "result, trial, agent, cluster1, cluster2, agent_data = find_one_agent_two_neighbours_opposite_cluster(test_params)"
   ],
   "outputs": [
    {
     "output_type": "stream",
     "name": "stdout",
     "text": [
      "Found condition!\n"
     ]
    }
   ],
   "metadata": {}
  },
  {
   "cell_type": "code",
   "execution_count": 56,
   "source": [
    "result, trial, agent, cluster1, cluster2, agent_data = find_one_agent_two_neighbours_opposite_cluster(test_params, False, 3, 3)"
   ],
   "outputs": [],
   "metadata": {}
  },
  {
   "cell_type": "code",
   "execution_count": 68,
   "source": [
    "agent_data[4:]"
   ],
   "outputs": [
    {
     "output_type": "execute_result",
     "data": {
      "text/plain": [
       "(array([0, 3]), array([1, 2]), [2, 3], array([2]), array([3]))"
      ]
     },
     "metadata": {},
     "execution_count": 68
    }
   ],
   "metadata": {}
  },
  {
   "cell_type": "code",
   "execution_count": 69,
   "source": [
    "(agent_adj_mat, agent_beliefs, agent_samplings, agent_tweets, agent_cluster, other_cluster, neighbours, outsider_neighbours, insider_neighbours) = agent_data"
   ],
   "outputs": [],
   "metadata": {}
  },
  {
   "cell_type": "code",
   "execution_count": 70,
   "source": [
    "print(get_params(test_params))"
   ],
   "outputs": [
    {
     "output_type": "stream",
     "name": "stdout",
     "text": [
      "((array(4.93096878), array(11.92733474), array(6.89882648)), [array([[0.84297937, 0.15702063],\n",
      "       [0.15702063, 0.84297937]]), array([[0.5890606, 0.4109394],\n",
      "       [0.4109394, 0.5890606]]), array([[0.80797176, 0.19202824],\n",
      "       [0.19202824, 0.80797176]]), array([[0.92502306, 0.07497694],\n",
      "       [0.07497694, 0.92502306]])])\n"
     ]
    }
   ],
   "metadata": {}
  },
  {
   "cell_type": "code",
   "execution_count": 71,
   "source": [
    "outsider_indices = [np.where(agent_samplings[trial] == i) for i in outsider_neighbours]\n",
    "insider_indices = [np.where(agent_samplings[trial] == i) for i in insider_neighbours]"
   ],
   "outputs": [],
   "metadata": {}
  },
  {
   "cell_type": "code",
   "execution_count": 72,
   "source": [
    "insider_indices"
   ],
   "outputs": [
    {
     "output_type": "execute_result",
     "data": {
      "text/plain": [
       "[(array([ 2,  3,  5,  6,  7,  8, 10, 12, 13, 14, 15, 16, 17, 18, 19, 21, 23,\n",
       "         25, 27, 29, 31, 33, 35, 37, 39, 41, 43, 45, 47, 49]),)]"
      ]
     },
     "metadata": {},
     "execution_count": 72
    }
   ],
   "metadata": {}
  },
  {
   "cell_type": "code",
   "execution_count": 73,
   "source": [
    "plt.plot(range(51), agent_samplings[trial])\n",
    "if len(outsider_indices) > 0:\n",
    "    for j in range(len(outsider_indices)):\n",
    "        plt.scatter(outsider_indices[j], np.tile(outsider_neighbours[j], len(outsider_indices[j][0])), color = 'green', label = \"outsider\")\n",
    "for i in range(len(insider_neighbours)):\n",
    "    plt.scatter(insider_indices[i][0], np.tile(insider_neighbours[i], len(insider_indices[i][0])), color = 'orange', label = \"insider\")\n",
    "plt.legend()\n",
    "plt.xlabel(\"Time\")\n",
    "plt.ylabel(\"Agent Sampling\")\n",
    "plt.title(\"Periodic sampling behaviour\")"
   ],
   "outputs": [
    {
     "output_type": "execute_result",
     "data": {
      "text/plain": [
       "Text(0.5, 1.0, 'Periodic sampling behaviour')"
      ]
     },
     "metadata": {},
     "execution_count": 73
    },
    {
     "output_type": "display_data",
     "data": {
      "text/plain": [
       "<Figure size 432x288 with 1 Axes>"
      ],
      "image/png": "[encoded data removed]"
     },
     "metadata": {
      "needs_background": "light"
     }
    }
   ],
   "metadata": {}
  },
  {
   "cell_type": "code",
   "execution_count": 74,
   "source": [
    "agent_reads = [result['all_tweets'][trial,t,int(a)] for t,a in enumerate(agent_samplings[trial,:])]"
   ],
   "outputs": [],
   "metadata": {}
  },
  {
   "cell_type": "code",
   "execution_count": 75,
   "source": [
    "agent_samplings[trial]"
   ],
   "outputs": [
    {
     "output_type": "execute_result",
     "data": {
      "text/plain": [
       "array([2., 2., 3., 3., 2., 3., 3., 3., 3., 2., 3., 2., 3., 3., 3., 3., 3.,\n",
       "       3., 3., 3., 2., 3., 2., 3., 2., 3., 2., 3., 2., 3., 2., 3., 2., 3.,\n",
       "       2., 3., 2., 3., 2., 3., 2., 3., 2., 3., 2., 3., 2., 3., 2., 3., 2.])"
      ]
     },
     "metadata": {},
     "execution_count": 75
    }
   ],
   "metadata": {}
  },
  {
   "cell_type": "code",
   "execution_count": 76,
   "source": [
    "behaviour = [( agent_tweets[trial][t], agent_reads[t], agent_beliefs[trial,:,0][t], (agent_beliefs[trial,:,0][t] - agent_beliefs[trial,:,0][t-1] )) for t in range(1,len(agent_reads)-1)]"
   ],
   "outputs": [],
   "metadata": {}
  },
  {
   "cell_type": "code",
   "execution_count": 77,
   "source": [
    "behaviour"
   ],
   "outputs": [
    {
     "output_type": "execute_result",
     "data": {
      "text/plain": [
       "[(1.0, 1.0, 0.47416473661561936, -0.01895760366852406),\n",
       " (1.0, 1.0, 0.4553064507869403, -0.018858285828679044),\n",
       " (1.0, 1.0, 0.43850973336894894, -0.01679671741799138),\n",
       " (1.0, 1.0, 0.4225755034566476, -0.015934229912301312),\n",
       " (1.0, 0.0, 0.44716127581113135, 0.024585772354483726),\n",
       " (1.0, 0.0, 0.4694523451483783, 0.02229106933724695),\n",
       " (1.0, 0.0, 0.48954092267217836, 0.020088577523800055),\n",
       " (1.0, 0.0, 0.507771345843751, 0.018230423171572696),\n",
       " (0.0, 1.0, 0.49014503511520235, -0.0176263107285487),\n",
       " (1.0, 0.0, 0.5075300030103403, 0.017384967895137993),\n",
       " (0.0, 1.0, 0.4905423078349122, -0.01698769517542814),\n",
       " (1.0, 1.0, 0.4666776468970599, -0.023864660937852333),\n",
       " (1.0, 1.0, 0.4453347193615798, -0.02134292753548006),\n",
       " (1.0, 1.0, 0.4265684881425157, -0.018766231219064122),\n",
       " (1.0, 1.0, 0.4101157732010357, -0.016452714941479984),\n",
       " (1.0, 0.0, 0.4341797007225856, 0.0240639275215499),\n",
       " (1.0, 0.0, 0.45603492340520996, 0.021855222682624353),\n",
       " (1.0, 0.0, 0.47586865232714165, 0.019833728921931693),\n",
       " (1.0, 0.0, 0.4940525873384075, 0.01818393501126586),\n",
       " (1.0, 1.0, 0.47713843510288795, -0.016914152235519564),\n",
       " (1.0, 0.0, 0.49461360120067055, 0.017475166097782602),\n",
       " (1.0, 1.0, 0.47819112251855594, -0.016422478682114605),\n",
       " (1.0, 0.0, 0.4952294740417879, 0.017038351523231965),\n",
       " (1.0, 1.0, 0.4790894348412473, -0.016140039200540635),\n",
       " (1.0, 0.0, 0.4958657904569138, 0.01677635561566654),\n",
       " (1.0, 1.0, 0.4798797026929061, -0.015986087764007728),\n",
       " (1.0, 0.0, 0.4964994828051443, 0.01661978011223819),\n",
       " (1.0, 1.0, 0.48059230534028696, -0.015907177464857314),\n",
       " (1.0, 0.0, 0.4971169233627238, 0.01652461802243682),\n",
       " (1.0, 1.0, 0.4812461850982483, -0.015870738264475492),\n",
       " (1.0, 0.0, 0.4977108360580268, 0.016464650959778504),\n",
       " (1.0, 1.0, 0.48185304495512926, -0.015857791102897534),\n",
       " (1.0, 0.0, 0.49827781590166864, 0.01642477094653938),\n",
       " (1.0, 1.0, 0.4824202650275589, -0.015857550874109727),\n",
       " (1.0, 0.0, 0.4988166892071643, 0.016396424179605407),\n",
       " (1.0, 1.0, 0.48295270937684964, -0.01586397983031468),\n",
       " (1.0, 0.0, 0.4993275185743342, 0.016374809197484574),\n",
       " (1.0, 1.0, 0.4834537862626453, -0.015873732311688926),\n",
       " (1.0, 0.0, 0.4998110249601407, 0.01635723869749539),\n",
       " (1.0, 1.0, 0.4839260538327123, -0.01588497112742837),\n",
       " (1.0, 0.0, 0.5002682602811099, 0.016342206448397623),\n",
       " (0.0, 1.0, 0.48437156185772573, -0.015896698423384203),\n",
       " (1.0, 0.0, 0.5007004250397833, 0.016328863182057562),\n",
       " (0.0, 1.0, 0.4847920438364634, -0.015908381203319888),\n",
       " (1.0, 0.0, 0.5011087682515551, 0.016316724415091743),\n",
       " (0.0, 1.0, 0.48518902531918245, -0.015919742932372694),\n",
       " (1.0, 0.0, 0.5014945335447212, 0.016305508225538723),\n",
       " (0.0, 1.0, 0.4855638855971523, -0.015930647947568877),\n",
       " (1.0, 0.0, 0.5018589309712896, 0.01629504537413734)]"
      ]
     },
     "metadata": {},
     "execution_count": 77
    }
   ],
   "metadata": {}
  },
  {
   "cell_type": "markdown",
   "source": [
    "So two general behaviours are possible: Either an agent will form a conclusion by choosing to more frequently sample within one cluster group than the other, or they will continue to sample from both cluster groups and remain centrist. In both cases, agents will choose their own leaning - only to tweet one hashtag over the other, but will continue to sample both leanings, to varying frequencies based on their beliefs.  "
   ],
   "metadata": {}
  },
  {
   "cell_type": "code",
   "execution_count": null,
   "source": [],
   "outputs": [],
   "metadata": {}
  },
  {
   "cell_type": "code",
   "execution_count": null,
   "source": [],
   "outputs": [],
   "metadata": {}
  },
  {
   "cell_type": "code",
   "execution_count": null,
   "source": [],
   "outputs": [],
   "metadata": {}
  },
  {
   "cell_type": "code",
   "execution_count": null,
   "source": [],
   "outputs": [],
   "metadata": {}
  },
  {
   "cell_type": "code",
   "execution_count": null,
   "source": [],
   "outputs": [],
   "metadata": {}
  }
 ],
 "metadata": {
  "kernelspec": {
   "display_name": "Python 3",
   "language": "python",
   "name": "python3"
  },
  "language_info": {
   "codemirror_mode": {
    "name": "ipython",
    "version": 3
   },
   "file_extension": ".py",
   "mimetype": "text/x-python",
   "name": "python",
   "nbconvert_exporter": "python",
   "pygments_lexer": "ipython3",
   "version": "3.8.5"
  }
 },
 "nbformat": 4,
 "nbformat_minor": 5
}