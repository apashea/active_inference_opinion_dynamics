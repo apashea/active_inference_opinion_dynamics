{
 "cells": [
  {
   "cell_type": "code",
   "execution_count": 24,
   "id": "initial-electron",
   "metadata": {},
   "outputs": [],
   "source": [
    "from param_analysis import ParameterAnalysis\n",
    "from plots import *"
   ]
  },
  {
   "cell_type": "markdown",
   "id": "further-judge",
   "metadata": {},
   "source": [
    "What I have found so far is that with really high ecb values like 9, agents make up their mind super quickly. then they only tweet one thing no matter what they read, they end up tweeting whatever is the majority belief of their neighbours, and they don't bother choosing not to sample the agents that disagree because the amount which these agents affect their beliefs has negligible towards actually changing opinion. "
   ]
  },
  {
   "cell_type": "markdown",
   "id": "yellow-condition",
   "metadata": {},
   "source": [
    "In contrast with lower ecb values like 5, agents can tend to never make up their minds. "
   ]
  },
  {
   "cell_type": "code",
   "execution_count": 25,
   "id": "focused-teacher",
   "metadata": {},
   "outputs": [],
   "source": [
    "import numpy as np\n",
    "import matplotlib.pyplot as plt"
   ]
  },
  {
   "cell_type": "code",
   "execution_count": 26,
   "id": "popular-variation",
   "metadata": {},
   "outputs": [],
   "source": [
    "\n",
    "\n",
    "\n",
    "connectedness_values = [0.3,0.5,0.7,0.8]\n",
    "ecb_precision_gammas = [7,8,9]\n",
    "\n",
    "num_agent_values = [6,7,8,9]\n",
    "\n",
    "n = len(num_agent_values)\n",
    "c = len(connectedness_values)\n",
    "#precision_ranges = [[1,2],[1,5],[1,9],[6,7],[6,10]]\n",
    "env_precision_gammas = [10]\n",
    "b_precision_gammas = [3,4,5,6,7,8]\n",
    "\n",
    "\n",
    "n_trials = 30"
   ]
  },
  {
   "cell_type": "code",
   "execution_count": 27,
   "id": "remarkable-sight",
   "metadata": {},
   "outputs": [],
   "source": [
    "params = ParameterAnalysis('results/test_r_6980.npz','results/test_p_6980.npz', num_agent_values, connectedness_values, ecb_precision_gammas, env_precision_gammas, b_precision_gammas, n_trials)"
   ]
  },
  {
   "cell_type": "code",
   "execution_count": 28,
   "id": "immediate-radio",
   "metadata": {},
   "outputs": [],
   "source": [
    "params.n_d.value = num_agent_values[1]\n",
    "params.env_d.value = env_precision_gammas[0]\n",
    "params.b_d.value = b_precision_gammas[0]\n",
    "params.c_d.value = connectedness_values[1]\n",
    "params.ecb_d.value = ecb_precision_gammas[-1]"
   ]
  },
  {
   "cell_type": "code",
   "execution_count": null,
   "id": "lasting-cooling",
   "metadata": {},
   "outputs": [],
   "source": [
    "(9, 0.5, 7, 6, 10)"
   ]
  },
  {
   "cell_type": "code",
   "execution_count": null,
   "id": "intimate-studio",
   "metadata": {},
   "outputs": [],
   "source": [
    "(9, 0.5, 9, 5, 10)"
   ]
  },
  {
   "cell_type": "code",
   "execution_count": 30,
   "id": "dominican-agriculture",
   "metadata": {},
   "outputs": [
    {
     "name": "stdout",
     "output_type": "stream",
     "text": [
      "param combo invalid\n",
      "param combo invalid\n",
      "param combo invalid\n",
      "param combo invalid\n"
     ]
    }
   ],
   "source": [
    "params.get_overall_metrics()"
   ]
  },
  {
   "cell_type": "code",
   "execution_count": 31,
   "id": "guided-rocket",
   "metadata": {},
   "outputs": [],
   "source": [
    "def get_params(param_values):\n",
    "    n = num_agent_values.index(param_values[0])\n",
    "    c = connectedness_values.index(param_values[1])\n",
    "    ecb = ecb_precision_gammas.index(param_values[2])\n",
    "    env = 0\n",
    "    b = 0\n",
    "    ecb_precision = params.param_results[0,n,c,ecb,env,b][0][0]\n",
    "    env_precision = params.param_results[0,n,c,ecb,env,b][0][1]\n",
    "    b_precision = params.param_results[0,n,c,ecb,env,b][0][2]\n",
    "    idea_mappings = [params.param_results[0,n,c,ecb,env,b][i][3] for i in range(param_values[0])]\n",
    "    return (ecb_precision, env_precision, b_precision),idea_mappings"
   ]
  },
  {
   "cell_type": "code",
   "execution_count": 32,
   "id": "seventh-ballet",
   "metadata": {},
   "outputs": [
    {
     "name": "stdout",
     "output_type": "stream",
     "text": [
      "Lowest DB index\n",
      "(8, 0.3, 7, 5, 10)\n",
      "0.28898543964900814\n",
      "((array(4.54669357), array(6.8543368), array(1.14523546)), [array([[0.62882066, 0.37117934],\n",
      "       [0.37117934, 0.62882066]]), array([[0.91838361, 0.08161639],\n",
      "       [0.08161639, 0.91838361]]), array([[0.77463279, 0.22536721],\n",
      "       [0.22536721, 0.77463279]]), array([[0.92535598, 0.07464402],\n",
      "       [0.07464402, 0.92535598]]), array([[0.89996456, 0.10003544],\n",
      "       [0.10003544, 0.89996456]]), array([[0.76669838, 0.23330162],\n",
      "       [0.23330162, 0.76669838]]), array([[0.60857173, 0.39142827],\n",
      "       [0.39142827, 0.60857173]]), array([[0.83298933, 0.16701067],\n",
      "       [0.16701067, 0.83298933]])])\n"
     ]
    }
   ],
   "source": [
    "lowest_db_index = np.where(params.db_indices == min(params.db_indices))[0][0]\n",
    "\n",
    "print(\"Lowest DB index\")\n",
    "db_params = list(params.get_param_combinations())[lowest_db_index]\n",
    "print(db_params)\n",
    "print(params.db_indices[lowest_db_index])\n",
    "print(get_params(db_params))\n"
   ]
  },
  {
   "cell_type": "code",
   "execution_count": 33,
   "id": "decreased-thesaurus",
   "metadata": {},
   "outputs": [],
   "source": [
    "clustering_data = {}\n",
    "\n",
    "for c in connectedness_values:\n",
    "    #find all parameter combinations with this connectedness value\n",
    "    c_indices = np.where(np.isin(np.array(list(params.get_param_combinations()))[:,1],c))[0]\n",
    "    #what are the db indices for these parameters?\n",
    "    c_db_indices = params.db_indices[c_indices]\n",
    "    #what is the smallest one?\n",
    "    lowest_db_index = np.where(c_db_indices == min(c_db_indices))[0][0]\n",
    "    highest_db_index = np.where(c_db_indices == max(c_db_indices))[0][0]\n",
    "    #print(c_db_indices[lowest_db_index])\n",
    "    \n",
    "    #what is the parameter combination that results in the smallest one?\n",
    "    optimal_params = list(params.get_param_combinations())[c_indices[lowest_db_index]]\n",
    "    suboptimal_params = list(params.get_param_combinations())[c_indices[highest_db_index]]\n",
    "   # (ecb_precision_opt, env_precision_opt, b_precision_opt),idea_mappings_opt = get_params(optimal_params)\n",
    " #   (ecb_precision_sopt, env_precision_sopt, b_precision_sopt),idea_mappings_sopt = get_params(suboptimal_params)\n",
    "\n",
    "    \n",
    "    clustering_data[c] = {\"optimal_params\" : optimal_params, \"lowest_db\":c_db_indices[lowest_db_index],\n",
    "                         # \"real_params_opt\" : (ecb_precision_opt, env_precision_opt, b_precision_opt),\n",
    "                          \n",
    "                         \"suboptimal_params\": suboptimal_params, \"highest_db\" : c_db_indices[highest_db_index]}\n",
    "                         \n",
    "                        # \"real_params_subopt\": (ecb_precision_sopt, env_precision_sopt, b_precision_sopt) }\n",
    "\n"
   ]
  },
  {
   "cell_type": "code",
   "execution_count": 34,
   "id": "sublime-matrix",
   "metadata": {},
   "outputs": [],
   "source": [
    "#officially confirmed that high ECB leads to clustering, low ECB leads to no clustering. \n",
    "#any sparseness can lead to clustering, but generally lots of agents in a sparse graphleads to clustering, and less agents in a non sparse graph leads to no clustering\n",
    "\n",
    "#the question now is: why?"
   ]
  },
  {
   "cell_type": "code",
   "execution_count": 35,
   "id": "adaptive-compiler",
   "metadata": {},
   "outputs": [
    {
     "data": {
      "text/plain": [
       "{0.3: {'optimal_params': (8, 0.3, 7, 5, 10),\n",
       "  'lowest_db': 0.28898543964900814,\n",
       "  'suboptimal_params': (8, 0.3, 9, 8, 10),\n",
       "  'highest_db': 1.0},\n",
       " 0.5: {'optimal_params': (8, 0.5, 9, 3, 10),\n",
       "  'lowest_db': 0.6161030761229889,\n",
       "  'suboptimal_params': (6, 0.5, 7, 4, 10),\n",
       "  'highest_db': 0.9721820038714639},\n",
       " 0.7: {'optimal_params': (7, 0.7, 8, 3, 10),\n",
       "  'lowest_db': 0.7226633034876205,\n",
       "  'suboptimal_params': (7, 0.7, 7, 4, 10),\n",
       "  'highest_db': 1.0},\n",
       " 0.8: {'optimal_params': (8, 0.8, 7, 3, 10),\n",
       "  'lowest_db': 0.8351372906558038,\n",
       "  'suboptimal_params': (6, 0.8, 8, 4, 10),\n",
       "  'highest_db': 1.0}}"
      ]
     },
     "execution_count": 35,
     "metadata": {},
     "output_type": "execute_result"
    }
   ],
   "source": [
    "clustering_data"
   ]
  },
  {
   "cell_type": "code",
   "execution_count": 36,
   "id": "dedicated-brook",
   "metadata": {},
   "outputs": [],
   "source": [
    "clustering_data = {}\n",
    "\n",
    "for ecb in ecb_precision_gammas:\n",
    "    #find all parameter combinations with this connectedness value\n",
    "    ecb_indices = np.where(np.isin(np.array(list(params.get_param_combinations()))[:,2],ecb))[0]\n",
    "    #what are the db indices for these parameters?\n",
    "    ecb_db_indices = params.db_indices[ecb_indices]\n",
    "    \n",
    "    #what is the smallest one?\n",
    "    lowest_db_index = np.where(ecb_db_indices == min(ecb_db_indices))[0][0]\n",
    "    highest_db_index = np.where(ecb_db_indices == max(ecb_db_indices))[0][0]\n",
    "    #print(c_db_indices[lowest_db_index])\n",
    "        #what is the parameter combination that results in the smallest one?\n",
    "    optimal_params = list(params.get_param_combinations())[ecb_indices[lowest_db_index]]\n",
    "    suboptimal_params = list(params.get_param_combinations())[ecb_indices[highest_db_index]]\n",
    "    #(ecb_precision_opt, env_precision_opt, b_precision_opt),idea_mappings_opt = get_params(optimal_params)\n",
    "    #(ecb_precision_sopt, env_precision_sopt, b_precision_sopt),idea_mappings_sopt = get_params(suboptimal_params)\n",
    "\n",
    "    \n",
    "    clustering_data[ecb] = {\"optimal_params\" : optimal_params, \"lowest_db\":ecb_db_indices[lowest_db_index],\n",
    "                       #   \"real_params_opt\" : (ecb_precision_opt, env_precision_opt, b_precision_opt),\n",
    "                          \n",
    "                         \"suboptimal_params\": suboptimal_params, \"highest_db\" : ecb_db_indices[highest_db_index]}\n",
    "                         \n",
    "                      #   \"real_params_subopt\": (ecb_precision_sopt, env_precision_sopt, b_precision_sopt) }\n",
    "\n"
   ]
  },
  {
   "cell_type": "code",
   "execution_count": 37,
   "id": "handled-ensemble",
   "metadata": {},
   "outputs": [],
   "source": [
    "def similarity_matrix(belief_hist):\n",
    "    T = belief_hist.shape[0]\n",
    "\n",
    "    KLD_intra_beliefs = get_KLDs(belief_hist)\n",
    "    believers = np.where(belief_hist[-1,0,:] > 0.5)\n",
    "    nonbelievers = np.where(belief_hist[-1,0,:] < 0.5)\n",
    "    cluster_sorted_indices = [i for i in believers[0]]\n",
    "    for j in nonbelievers[0]:\n",
    "        cluster_sorted_indices.append(j)\n",
    "\n",
    "    \n",
    "    color_map = plt.cm.get_cmap('gray').reversed()\n",
    "\n",
    "\n",
    "    single_slice = KLD_intra_beliefs[:,:,-1]\n",
    "    sorted_slice = single_slice[cluster_sorted_indices,:][:,cluster_sorted_indices]\n",
    "    plt.imshow(sorted_slice, cmap = color_map)\n",
    "    plt.title(\"Belief similarity matrix\")\n",
    "    plt.show()\n",
    "    plt.clf()"
   ]
  },
  {
   "cell_type": "code",
   "execution_count": 38,
   "id": "invisible-filling",
   "metadata": {},
   "outputs": [
    {
     "data": {
      "text/plain": [
       "{7: {'optimal_params': (8, 0.3, 7, 5, 10),\n",
       "  'lowest_db': 0.28898543964900814,\n",
       "  'suboptimal_params': (7, 0.7, 7, 4, 10),\n",
       "  'highest_db': 1.0},\n",
       " 8: {'optimal_params': (7, 0.3, 8, 7, 10),\n",
       "  'lowest_db': 0.4782626001748345,\n",
       "  'suboptimal_params': (6, 0.8, 8, 4, 10),\n",
       "  'highest_db': 1.0},\n",
       " 9: {'optimal_params': (9, 0.3, 9, 3, 10),\n",
       "  'lowest_db': 0.3908413600266398,\n",
       "  'suboptimal_params': (6, 0.8, 9, 3, 10),\n",
       "  'highest_db': 1.0}}"
      ]
     },
     "execution_count": 38,
     "metadata": {},
     "output_type": "execute_result"
    }
   ],
   "source": [
    "clustering_data"
   ]
  },
  {
   "cell_type": "code",
   "execution_count": 39,
   "id": "outstanding-outline",
   "metadata": {},
   "outputs": [
    {
     "data": {
      "image/png": "[encoded data removed]",
      "text/plain": [
       "<Figure size 432x288 with 1 Axes>"
      ]
     },
     "metadata": {
      "needs_background": "light"
     },
     "output_type": "display_data"
    },
    {
     "data": {
      "text/plain": [
       "<Figure size 432x288 with 0 Axes>"
      ]
     },
     "metadata": {},
     "output_type": "display_data"
    }
   ],
   "source": [
    "optimal_params = [7, 0.3, 8, 7, 10]\n",
    "params.update_params(optimal_params)\n",
    "params.get_all_sim_results_from_parameters()\n",
    "beliefs = params.all_qs\n",
    "kld_matrices = similarity_matrix(beliefs[16,:,:,:])"
   ]
  },
  {
   "cell_type": "code",
   "execution_count": 40,
   "id": "legitimate-somerset",
   "metadata": {},
   "outputs": [],
   "source": [
    "#General question: Do agents who are connected usually end up in the same cluster? \n",
    "\n",
    "#just get two lists, the cluster lists, and then the connnected lists ?"
   ]
  },
  {
   "cell_type": "code",
   "execution_count": 41,
   "id": "consolidated-latino",
   "metadata": {},
   "outputs": [],
   "source": [
    "def is_connected(adj_mat):\n",
    "    return np.where(adj_mat == 1)"
   ]
  },
  {
   "cell_type": "code",
   "execution_count": 42,
   "id": "serial-executive",
   "metadata": {},
   "outputs": [],
   "source": [
    "#now we want to investigate what happened during the best simulation"
   ]
  },
  {
   "cell_type": "code",
   "execution_count": 43,
   "id": "corresponding-printer",
   "metadata": {},
   "outputs": [],
   "source": [
    "trial = 16"
   ]
  },
  {
   "cell_type": "code",
   "execution_count": 44,
   "id": "affiliated-relative",
   "metadata": {},
   "outputs": [
    {
     "ename": "TraitError",
     "evalue": "Invalid selection: value not found",
     "output_type": "error",
     "traceback": [
      "\u001b[0;31m---------------------------------------------------------------------------\u001b[0m",
      "\u001b[0;31mStopIteration\u001b[0m                             Traceback (most recent call last)",
      "\u001b[0;32m/vol/bitbucket/att21/venv/lib/python3.8/site-packages/ipywidgets/widgets/widget_selection.py\u001b[0m in \u001b[0;36mfindvalue\u001b[0;34m(array, value, compare)\u001b[0m\n\u001b[1;32m    136\u001b[0m     \u001b[0;32mtry\u001b[0m\u001b[0;34m:\u001b[0m\u001b[0;34m\u001b[0m\u001b[0;34m\u001b[0m\u001b[0m\n\u001b[0;32m--> 137\u001b[0;31m         \u001b[0;32mreturn\u001b[0m \u001b[0mnext\u001b[0m\u001b[0;34m(\u001b[0m\u001b[0mx\u001b[0m \u001b[0;32mfor\u001b[0m \u001b[0mx\u001b[0m \u001b[0;32min\u001b[0m \u001b[0marray\u001b[0m \u001b[0;32mif\u001b[0m \u001b[0mcompare\u001b[0m\u001b[0;34m(\u001b[0m\u001b[0mx\u001b[0m\u001b[0;34m,\u001b[0m \u001b[0mvalue\u001b[0m\u001b[0;34m)\u001b[0m\u001b[0;34m)\u001b[0m\u001b[0;34m\u001b[0m\u001b[0;34m\u001b[0m\u001b[0m\n\u001b[0m\u001b[1;32m    138\u001b[0m     \u001b[0;32mexcept\u001b[0m \u001b[0mStopIteration\u001b[0m\u001b[0;34m:\u001b[0m\u001b[0;34m\u001b[0m\u001b[0;34m\u001b[0m\u001b[0m\n",
      "\u001b[0;31mStopIteration\u001b[0m: ",
      "\nDuring handling of the above exception, another exception occurred:\n",
      "\u001b[0;31mValueError\u001b[0m                                Traceback (most recent call last)",
      "\u001b[0;32m/vol/bitbucket/att21/venv/lib/python3.8/site-packages/ipywidgets/widgets/widget_selection.py\u001b[0m in \u001b[0;36m_validate_value\u001b[0;34m(self, proposal)\u001b[0m\n\u001b[1;32m    240\u001b[0m         \u001b[0;32mtry\u001b[0m\u001b[0;34m:\u001b[0m\u001b[0;34m\u001b[0m\u001b[0;34m\u001b[0m\u001b[0m\n\u001b[0;32m--> 241\u001b[0;31m             \u001b[0;32mreturn\u001b[0m \u001b[0mfindvalue\u001b[0m\u001b[0;34m(\u001b[0m\u001b[0mself\u001b[0m\u001b[0;34m.\u001b[0m\u001b[0m_options_values\u001b[0m\u001b[0;34m,\u001b[0m \u001b[0mvalue\u001b[0m\u001b[0;34m,\u001b[0m \u001b[0mself\u001b[0m\u001b[0;34m.\u001b[0m\u001b[0mequals\u001b[0m\u001b[0;34m)\u001b[0m \u001b[0;32mif\u001b[0m \u001b[0mvalue\u001b[0m \u001b[0;32mis\u001b[0m \u001b[0;32mnot\u001b[0m \u001b[0;32mNone\u001b[0m \u001b[0;32melse\u001b[0m \u001b[0;32mNone\u001b[0m\u001b[0;34m\u001b[0m\u001b[0;34m\u001b[0m\u001b[0m\n\u001b[0m\u001b[1;32m    242\u001b[0m         \u001b[0;32mexcept\u001b[0m \u001b[0mValueError\u001b[0m\u001b[0;34m:\u001b[0m\u001b[0;34m\u001b[0m\u001b[0;34m\u001b[0m\u001b[0m\n",
      "\u001b[0;32m/vol/bitbucket/att21/venv/lib/python3.8/site-packages/ipywidgets/widgets/widget_selection.py\u001b[0m in \u001b[0;36mfindvalue\u001b[0;34m(array, value, compare)\u001b[0m\n\u001b[1;32m    138\u001b[0m     \u001b[0;32mexcept\u001b[0m \u001b[0mStopIteration\u001b[0m\u001b[0;34m:\u001b[0m\u001b[0;34m\u001b[0m\u001b[0;34m\u001b[0m\u001b[0m\n\u001b[0;32m--> 139\u001b[0;31m         \u001b[0;32mraise\u001b[0m \u001b[0mValueError\u001b[0m\u001b[0;34m(\u001b[0m\u001b[0;34m'%r not in array'\u001b[0m\u001b[0;34m%\u001b[0m\u001b[0mvalue\u001b[0m\u001b[0;34m)\u001b[0m\u001b[0;34m\u001b[0m\u001b[0;34m\u001b[0m\u001b[0m\n\u001b[0m\u001b[1;32m    140\u001b[0m \u001b[0;34m\u001b[0m\u001b[0m\n",
      "\u001b[0;31mValueError\u001b[0m: 0.2 not in array",
      "\nDuring handling of the above exception, another exception occurred:\n",
      "\u001b[0;31mTraitError\u001b[0m                                Traceback (most recent call last)",
      "\u001b[0;32m<ipython-input-44-de7b2c814bf6>\u001b[0m in \u001b[0;36m<module>\u001b[0;34m\u001b[0m\n\u001b[1;32m      1\u001b[0m \u001b[0mtest_params\u001b[0m \u001b[0;34m=\u001b[0m \u001b[0;34m[\u001b[0m\u001b[0;36m8\u001b[0m\u001b[0;34m,\u001b[0m\u001b[0;36m0.2\u001b[0m\u001b[0;34m,\u001b[0m\u001b[0;36m5\u001b[0m\u001b[0;34m,\u001b[0m\u001b[0;36m5\u001b[0m\u001b[0;34m,\u001b[0m\u001b[0;36m10\u001b[0m\u001b[0;34m]\u001b[0m\u001b[0;34m\u001b[0m\u001b[0;34m\u001b[0m\u001b[0m\n\u001b[0;32m----> 2\u001b[0;31m \u001b[0mparams\u001b[0m\u001b[0;34m.\u001b[0m\u001b[0mupdate_params\u001b[0m\u001b[0;34m(\u001b[0m\u001b[0mtest_params\u001b[0m\u001b[0;34m)\u001b[0m\u001b[0;34m\u001b[0m\u001b[0;34m\u001b[0m\u001b[0m\n\u001b[0m\u001b[1;32m      3\u001b[0m \u001b[0mbeliefs\u001b[0m \u001b[0;34m=\u001b[0m \u001b[0mparams\u001b[0m\u001b[0;34m.\u001b[0m\u001b[0mall_qs\u001b[0m\u001b[0;34m\u001b[0m\u001b[0;34m\u001b[0m\u001b[0m\n",
      "\u001b[0;32m~/active_inference_opinion_dynamics/Analysis/param_analysis.py\u001b[0m in \u001b[0;36mupdate_params\u001b[0;34m(self, params)\u001b[0m\n\u001b[1;32m    110\u001b[0m     \u001b[0;32mdef\u001b[0m \u001b[0mupdate_params\u001b[0m\u001b[0;34m(\u001b[0m\u001b[0mself\u001b[0m\u001b[0;34m,\u001b[0m \u001b[0mparams\u001b[0m\u001b[0;34m)\u001b[0m\u001b[0;34m:\u001b[0m\u001b[0;34m\u001b[0m\u001b[0;34m\u001b[0m\u001b[0m\n\u001b[1;32m    111\u001b[0m         \u001b[0mself\u001b[0m\u001b[0;34m.\u001b[0m\u001b[0mn_d\u001b[0m\u001b[0;34m.\u001b[0m\u001b[0mvalue\u001b[0m \u001b[0;34m=\u001b[0m \u001b[0mparams\u001b[0m\u001b[0;34m[\u001b[0m\u001b[0;36m0\u001b[0m\u001b[0;34m]\u001b[0m\u001b[0;34m\u001b[0m\u001b[0;34m\u001b[0m\u001b[0m\n\u001b[0;32m--> 112\u001b[0;31m         \u001b[0mself\u001b[0m\u001b[0;34m.\u001b[0m\u001b[0mc_d\u001b[0m\u001b[0;34m.\u001b[0m\u001b[0mvalue\u001b[0m \u001b[0;34m=\u001b[0m \u001b[0mparams\u001b[0m\u001b[0;34m[\u001b[0m\u001b[0;36m1\u001b[0m\u001b[0;34m]\u001b[0m\u001b[0;34m\u001b[0m\u001b[0;34m\u001b[0m\u001b[0m\n\u001b[0m\u001b[1;32m    113\u001b[0m         \u001b[0mself\u001b[0m\u001b[0;34m.\u001b[0m\u001b[0mecb_d\u001b[0m\u001b[0;34m.\u001b[0m\u001b[0mvalue\u001b[0m \u001b[0;34m=\u001b[0m \u001b[0mparams\u001b[0m\u001b[0;34m[\u001b[0m\u001b[0;36m2\u001b[0m\u001b[0;34m]\u001b[0m\u001b[0;34m\u001b[0m\u001b[0;34m\u001b[0m\u001b[0m\n\u001b[1;32m    114\u001b[0m         \u001b[0mself\u001b[0m\u001b[0;34m.\u001b[0m\u001b[0mb_d\u001b[0m\u001b[0;34m.\u001b[0m\u001b[0mvalue\u001b[0m \u001b[0;34m=\u001b[0m \u001b[0mparams\u001b[0m\u001b[0;34m[\u001b[0m\u001b[0;36m3\u001b[0m\u001b[0;34m]\u001b[0m\u001b[0;34m\u001b[0m\u001b[0;34m\u001b[0m\u001b[0m\n",
      "\u001b[0;32m/vol/bitbucket/att21/venv/lib/python3.8/site-packages/traitlets/traitlets.py\u001b[0m in \u001b[0;36m__set__\u001b[0;34m(self, obj, value)\u001b[0m\n\u001b[1;32m    602\u001b[0m             \u001b[0;32mraise\u001b[0m \u001b[0mTraitError\u001b[0m\u001b[0;34m(\u001b[0m\u001b[0;34m'The \"%s\" trait is read-only.'\u001b[0m \u001b[0;34m%\u001b[0m \u001b[0mself\u001b[0m\u001b[0;34m.\u001b[0m\u001b[0mname\u001b[0m\u001b[0;34m)\u001b[0m\u001b[0;34m\u001b[0m\u001b[0;34m\u001b[0m\u001b[0m\n\u001b[1;32m    603\u001b[0m         \u001b[0;32melse\u001b[0m\u001b[0;34m:\u001b[0m\u001b[0;34m\u001b[0m\u001b[0;34m\u001b[0m\u001b[0m\n\u001b[0;32m--> 604\u001b[0;31m             \u001b[0mself\u001b[0m\u001b[0;34m.\u001b[0m\u001b[0mset\u001b[0m\u001b[0;34m(\u001b[0m\u001b[0mobj\u001b[0m\u001b[0;34m,\u001b[0m \u001b[0mvalue\u001b[0m\u001b[0;34m)\u001b[0m\u001b[0;34m\u001b[0m\u001b[0;34m\u001b[0m\u001b[0m\n\u001b[0m\u001b[1;32m    605\u001b[0m \u001b[0;34m\u001b[0m\u001b[0m\n\u001b[1;32m    606\u001b[0m     \u001b[0;32mdef\u001b[0m \u001b[0m_validate\u001b[0m\u001b[0;34m(\u001b[0m\u001b[0mself\u001b[0m\u001b[0;34m,\u001b[0m \u001b[0mobj\u001b[0m\u001b[0;34m,\u001b[0m \u001b[0mvalue\u001b[0m\u001b[0;34m)\u001b[0m\u001b[0;34m:\u001b[0m\u001b[0;34m\u001b[0m\u001b[0;34m\u001b[0m\u001b[0m\n",
      "\u001b[0;32m/vol/bitbucket/att21/venv/lib/python3.8/site-packages/traitlets/traitlets.py\u001b[0m in \u001b[0;36mset\u001b[0;34m(self, obj, value)\u001b[0m\n\u001b[1;32m    576\u001b[0m \u001b[0;34m\u001b[0m\u001b[0m\n\u001b[1;32m    577\u001b[0m     \u001b[0;32mdef\u001b[0m \u001b[0mset\u001b[0m\u001b[0;34m(\u001b[0m\u001b[0mself\u001b[0m\u001b[0;34m,\u001b[0m \u001b[0mobj\u001b[0m\u001b[0;34m,\u001b[0m \u001b[0mvalue\u001b[0m\u001b[0;34m)\u001b[0m\u001b[0;34m:\u001b[0m\u001b[0;34m\u001b[0m\u001b[0;34m\u001b[0m\u001b[0m\n\u001b[0;32m--> 578\u001b[0;31m         \u001b[0mnew_value\u001b[0m \u001b[0;34m=\u001b[0m \u001b[0mself\u001b[0m\u001b[0;34m.\u001b[0m\u001b[0m_validate\u001b[0m\u001b[0;34m(\u001b[0m\u001b[0mobj\u001b[0m\u001b[0;34m,\u001b[0m \u001b[0mvalue\u001b[0m\u001b[0;34m)\u001b[0m\u001b[0;34m\u001b[0m\u001b[0;34m\u001b[0m\u001b[0m\n\u001b[0m\u001b[1;32m    579\u001b[0m         \u001b[0;32mtry\u001b[0m\u001b[0;34m:\u001b[0m\u001b[0;34m\u001b[0m\u001b[0;34m\u001b[0m\u001b[0m\n\u001b[1;32m    580\u001b[0m             \u001b[0mold_value\u001b[0m \u001b[0;34m=\u001b[0m \u001b[0mobj\u001b[0m\u001b[0;34m.\u001b[0m\u001b[0m_trait_values\u001b[0m\u001b[0;34m[\u001b[0m\u001b[0mself\u001b[0m\u001b[0;34m.\u001b[0m\u001b[0mname\u001b[0m\u001b[0;34m]\u001b[0m\u001b[0;34m\u001b[0m\u001b[0;34m\u001b[0m\u001b[0m\n",
      "\u001b[0;32m/vol/bitbucket/att21/venv/lib/python3.8/site-packages/traitlets/traitlets.py\u001b[0m in \u001b[0;36m_validate\u001b[0;34m(self, obj, value)\u001b[0m\n\u001b[1;32m    610\u001b[0m             \u001b[0mvalue\u001b[0m \u001b[0;34m=\u001b[0m \u001b[0mself\u001b[0m\u001b[0;34m.\u001b[0m\u001b[0mvalidate\u001b[0m\u001b[0;34m(\u001b[0m\u001b[0mobj\u001b[0m\u001b[0;34m,\u001b[0m \u001b[0mvalue\u001b[0m\u001b[0;34m)\u001b[0m\u001b[0;34m\u001b[0m\u001b[0;34m\u001b[0m\u001b[0m\n\u001b[1;32m    611\u001b[0m         \u001b[0;32mif\u001b[0m \u001b[0mobj\u001b[0m\u001b[0;34m.\u001b[0m\u001b[0m_cross_validation_lock\u001b[0m \u001b[0;32mis\u001b[0m \u001b[0;32mFalse\u001b[0m\u001b[0;34m:\u001b[0m\u001b[0;34m\u001b[0m\u001b[0;34m\u001b[0m\u001b[0m\n\u001b[0;32m--> 612\u001b[0;31m             \u001b[0mvalue\u001b[0m \u001b[0;34m=\u001b[0m \u001b[0mself\u001b[0m\u001b[0;34m.\u001b[0m\u001b[0m_cross_validate\u001b[0m\u001b[0;34m(\u001b[0m\u001b[0mobj\u001b[0m\u001b[0;34m,\u001b[0m \u001b[0mvalue\u001b[0m\u001b[0;34m)\u001b[0m\u001b[0;34m\u001b[0m\u001b[0;34m\u001b[0m\u001b[0m\n\u001b[0m\u001b[1;32m    613\u001b[0m         \u001b[0;32mreturn\u001b[0m \u001b[0mvalue\u001b[0m\u001b[0;34m\u001b[0m\u001b[0;34m\u001b[0m\u001b[0m\n\u001b[1;32m    614\u001b[0m \u001b[0;34m\u001b[0m\u001b[0m\n",
      "\u001b[0;32m/vol/bitbucket/att21/venv/lib/python3.8/site-packages/traitlets/traitlets.py\u001b[0m in \u001b[0;36m_cross_validate\u001b[0;34m(self, obj, value)\u001b[0m\n\u001b[1;32m    616\u001b[0m         \u001b[0;32mif\u001b[0m \u001b[0mself\u001b[0m\u001b[0;34m.\u001b[0m\u001b[0mname\u001b[0m \u001b[0;32min\u001b[0m \u001b[0mobj\u001b[0m\u001b[0;34m.\u001b[0m\u001b[0m_trait_validators\u001b[0m\u001b[0;34m:\u001b[0m\u001b[0;34m\u001b[0m\u001b[0;34m\u001b[0m\u001b[0m\n\u001b[1;32m    617\u001b[0m             \u001b[0mproposal\u001b[0m \u001b[0;34m=\u001b[0m \u001b[0mBunch\u001b[0m\u001b[0;34m(\u001b[0m\u001b[0;34m{\u001b[0m\u001b[0;34m'trait'\u001b[0m\u001b[0;34m:\u001b[0m \u001b[0mself\u001b[0m\u001b[0;34m,\u001b[0m \u001b[0;34m'value'\u001b[0m\u001b[0;34m:\u001b[0m \u001b[0mvalue\u001b[0m\u001b[0;34m,\u001b[0m \u001b[0;34m'owner'\u001b[0m\u001b[0;34m:\u001b[0m \u001b[0mobj\u001b[0m\u001b[0;34m}\u001b[0m\u001b[0;34m)\u001b[0m\u001b[0;34m\u001b[0m\u001b[0;34m\u001b[0m\u001b[0m\n\u001b[0;32m--> 618\u001b[0;31m             \u001b[0mvalue\u001b[0m \u001b[0;34m=\u001b[0m \u001b[0mobj\u001b[0m\u001b[0;34m.\u001b[0m\u001b[0m_trait_validators\u001b[0m\u001b[0;34m[\u001b[0m\u001b[0mself\u001b[0m\u001b[0;34m.\u001b[0m\u001b[0mname\u001b[0m\u001b[0;34m]\u001b[0m\u001b[0;34m(\u001b[0m\u001b[0mobj\u001b[0m\u001b[0;34m,\u001b[0m \u001b[0mproposal\u001b[0m\u001b[0;34m)\u001b[0m\u001b[0;34m\u001b[0m\u001b[0;34m\u001b[0m\u001b[0m\n\u001b[0m\u001b[1;32m    619\u001b[0m         \u001b[0;32melif\u001b[0m \u001b[0mhasattr\u001b[0m\u001b[0;34m(\u001b[0m\u001b[0mobj\u001b[0m\u001b[0;34m,\u001b[0m \u001b[0;34m'_%s_validate'\u001b[0m \u001b[0;34m%\u001b[0m \u001b[0mself\u001b[0m\u001b[0;34m.\u001b[0m\u001b[0mname\u001b[0m\u001b[0;34m)\u001b[0m\u001b[0;34m:\u001b[0m\u001b[0;34m\u001b[0m\u001b[0;34m\u001b[0m\u001b[0m\n\u001b[1;32m    620\u001b[0m             \u001b[0mmeth_name\u001b[0m \u001b[0;34m=\u001b[0m \u001b[0;34m'_%s_validate'\u001b[0m \u001b[0;34m%\u001b[0m \u001b[0mself\u001b[0m\u001b[0;34m.\u001b[0m\u001b[0mname\u001b[0m\u001b[0;34m\u001b[0m\u001b[0;34m\u001b[0m\u001b[0m\n",
      "\u001b[0;32m/vol/bitbucket/att21/venv/lib/python3.8/site-packages/traitlets/traitlets.py\u001b[0m in \u001b[0;36m__call__\u001b[0;34m(self, *args, **kwargs)\u001b[0m\n\u001b[1;32m    973\u001b[0m         \u001b[0;34m\"\"\"Pass `*args` and `**kwargs` to the handler's function if it exists.\"\"\"\u001b[0m\u001b[0;34m\u001b[0m\u001b[0;34m\u001b[0m\u001b[0m\n\u001b[1;32m    974\u001b[0m         \u001b[0;32mif\u001b[0m \u001b[0mhasattr\u001b[0m\u001b[0;34m(\u001b[0m\u001b[0mself\u001b[0m\u001b[0;34m,\u001b[0m \u001b[0;34m'func'\u001b[0m\u001b[0;34m)\u001b[0m\u001b[0;34m:\u001b[0m\u001b[0;34m\u001b[0m\u001b[0;34m\u001b[0m\u001b[0m\n\u001b[0;32m--> 975\u001b[0;31m             \u001b[0;32mreturn\u001b[0m \u001b[0mself\u001b[0m\u001b[0;34m.\u001b[0m\u001b[0mfunc\u001b[0m\u001b[0;34m(\u001b[0m\u001b[0;34m*\u001b[0m\u001b[0margs\u001b[0m\u001b[0;34m,\u001b[0m \u001b[0;34m**\u001b[0m\u001b[0mkwargs\u001b[0m\u001b[0;34m)\u001b[0m\u001b[0;34m\u001b[0m\u001b[0;34m\u001b[0m\u001b[0m\n\u001b[0m\u001b[1;32m    976\u001b[0m         \u001b[0;32melse\u001b[0m\u001b[0;34m:\u001b[0m\u001b[0;34m\u001b[0m\u001b[0;34m\u001b[0m\u001b[0m\n\u001b[1;32m    977\u001b[0m             \u001b[0;32mreturn\u001b[0m \u001b[0mself\u001b[0m\u001b[0;34m.\u001b[0m\u001b[0m_init_call\u001b[0m\u001b[0;34m(\u001b[0m\u001b[0;34m*\u001b[0m\u001b[0margs\u001b[0m\u001b[0;34m,\u001b[0m \u001b[0;34m**\u001b[0m\u001b[0mkwargs\u001b[0m\u001b[0;34m)\u001b[0m\u001b[0;34m\u001b[0m\u001b[0;34m\u001b[0m\u001b[0m\n",
      "\u001b[0;32m/vol/bitbucket/att21/venv/lib/python3.8/site-packages/ipywidgets/widgets/widget_selection.py\u001b[0m in \u001b[0;36m_validate_value\u001b[0;34m(self, proposal)\u001b[0m\n\u001b[1;32m    241\u001b[0m             \u001b[0;32mreturn\u001b[0m \u001b[0mfindvalue\u001b[0m\u001b[0;34m(\u001b[0m\u001b[0mself\u001b[0m\u001b[0;34m.\u001b[0m\u001b[0m_options_values\u001b[0m\u001b[0;34m,\u001b[0m \u001b[0mvalue\u001b[0m\u001b[0;34m,\u001b[0m \u001b[0mself\u001b[0m\u001b[0;34m.\u001b[0m\u001b[0mequals\u001b[0m\u001b[0;34m)\u001b[0m \u001b[0;32mif\u001b[0m \u001b[0mvalue\u001b[0m \u001b[0;32mis\u001b[0m \u001b[0;32mnot\u001b[0m \u001b[0;32mNone\u001b[0m \u001b[0;32melse\u001b[0m \u001b[0;32mNone\u001b[0m\u001b[0;34m\u001b[0m\u001b[0;34m\u001b[0m\u001b[0m\n\u001b[1;32m    242\u001b[0m         \u001b[0;32mexcept\u001b[0m \u001b[0mValueError\u001b[0m\u001b[0;34m:\u001b[0m\u001b[0;34m\u001b[0m\u001b[0;34m\u001b[0m\u001b[0m\n\u001b[0;32m--> 243\u001b[0;31m             \u001b[0;32mraise\u001b[0m \u001b[0mTraitError\u001b[0m\u001b[0;34m(\u001b[0m\u001b[0;34m'Invalid selection: value not found'\u001b[0m\u001b[0;34m)\u001b[0m\u001b[0;34m\u001b[0m\u001b[0;34m\u001b[0m\u001b[0m\n\u001b[0m\u001b[1;32m    244\u001b[0m \u001b[0;34m\u001b[0m\u001b[0m\n\u001b[1;32m    245\u001b[0m     \u001b[0;34m@\u001b[0m\u001b[0mobserve\u001b[0m\u001b[0;34m(\u001b[0m\u001b[0;34m'value'\u001b[0m\u001b[0;34m)\u001b[0m\u001b[0;34m\u001b[0m\u001b[0;34m\u001b[0m\u001b[0m\n",
      "\u001b[0;31mTraitError\u001b[0m: Invalid selection: value not found"
     ]
    }
   ],
   "source": [
    "test_params = [8,0.2,5,5,10]\n",
    "params.update_params(test_params)\n",
    "beliefs = params.all_qs\n"
   ]
  },
  {
   "cell_type": "code",
   "execution_count": 1300,
   "id": "illegal-population",
   "metadata": {},
   "outputs": [],
   "source": [
    "#what are the clusters? \n",
    "all_beliefs_t = beliefs[trial,:,:,:] \n",
    "cluster1 = np.where(all_beliefs_t[-1,1,:] > 0.5)\n",
    "cluster2 = np.where(all_beliefs_t[-1,1,:] < 0.5)"
   ]
  },
  {
   "cell_type": "code",
   "execution_count": 1301,
   "id": "arranged-hours",
   "metadata": {},
   "outputs": [
    {
     "data": {
      "text/plain": [
       "(array([0, 3, 4]),)"
      ]
     },
     "execution_count": 1301,
     "metadata": {},
     "output_type": "execute_result"
    }
   ],
   "source": [
    "cluster1"
   ]
  },
  {
   "cell_type": "code",
   "execution_count": 1302,
   "id": "overall-bundle",
   "metadata": {},
   "outputs": [
    {
     "data": {
      "text/plain": [
       "(array([1, 2, 5, 6, 7]),)"
      ]
     },
     "execution_count": 1302,
     "metadata": {},
     "output_type": "execute_result"
    }
   ],
   "source": [
    "cluster2"
   ]
  },
  {
   "cell_type": "code",
   "execution_count": 1303,
   "id": "adverse-business",
   "metadata": {},
   "outputs": [],
   "source": [
    "result = params.get_all_sim_results_from_parameters()\n"
   ]
  },
  {
   "cell_type": "code",
   "execution_count": 1304,
   "id": "appropriate-simulation",
   "metadata": {},
   "outputs": [
    {
     "name": "stdout",
     "output_type": "stream",
     "text": [
      "((array(6.27173834), array(8.48433653), array(1.18447132)), [array([[0.85470169, 0.14529831],\n",
      "       [0.14529831, 0.85470169]]), array([[0.90540689, 0.09459311],\n",
      "       [0.09459311, 0.90540689]]), array([[0.94255064, 0.05744936],\n",
      "       [0.05744936, 0.94255064]]), array([[0.64475922, 0.35524078],\n",
      "       [0.35524078, 0.64475922]]), array([[0.61634455, 0.38365545],\n",
      "       [0.38365545, 0.61634455]]), array([[0.81716899, 0.18283101],\n",
      "       [0.18283101, 0.81716899]]), array([[0.93133855, 0.06866145],\n",
      "       [0.06866145, 0.93133855]]), array([[0.87971106, 0.12028894],\n",
      "       [0.12028894, 0.87971106]])])\n"
     ]
    }
   ],
   "source": [
    "print(get_params(test_params))"
   ]
  },
  {
   "cell_type": "code",
   "execution_count": 1330,
   "id": "cubic-domestic",
   "metadata": {},
   "outputs": [],
   "source": [
    "agent = 3"
   ]
  },
  {
   "cell_type": "code",
   "execution_count": 1331,
   "id": "combined-desktop",
   "metadata": {},
   "outputs": [],
   "source": [
    "#let's examine one agent \n",
    "agent_1_adj_mat = result['adj_mat'][:,agent,:]\n",
    "agent_1_beliefs = result['all_qs'][:,:,:,agent]\n",
    "agent_1_samplings = result['all_neighbour_sampling'][:,:,agent]\n",
    "agent_1_tweets = result['all_tweets'][:,:,agent]"
   ]
  },
  {
   "cell_type": "code",
   "execution_count": 1332,
   "id": "reserved-attraction",
   "metadata": {},
   "outputs": [],
   "source": [
    "neighbours = list(is_connected(agent_1_adj_mat[0])[0])"
   ]
  },
  {
   "cell_type": "code",
   "execution_count": 1333,
   "id": "unauthorized-kingdom",
   "metadata": {},
   "outputs": [
    {
     "data": {
      "text/plain": [
       "[0, 4, 7]"
      ]
     },
     "execution_count": 1333,
     "metadata": {},
     "output_type": "execute_result"
    }
   ],
   "source": [
    "neighbours"
   ]
  },
  {
   "cell_type": "code",
   "execution_count": 1334,
   "id": "removed-membrane",
   "metadata": {},
   "outputs": [
    {
     "data": {
      "text/plain": [
       "array([1., 0., 0., 0., 1., 0., 0., 1.])"
      ]
     },
     "execution_count": 1334,
     "metadata": {},
     "output_type": "execute_result"
    }
   ],
   "source": [
    "agent_1_adj_mat[trial]"
   ]
  },
  {
   "cell_type": "code",
   "execution_count": 1335,
   "id": "prepared-double",
   "metadata": {},
   "outputs": [
    {
     "data": {
      "text/plain": [
       "array([0., 0., 0., 0., 0., 0., 0., 0., 0., 0., 1., 0., 1., 1., 1., 1., 1.,\n",
       "       1., 1., 1., 1., 1., 1., 1., 1., 1., 1., 1., 1., 1., 1., 1., 1., 1.,\n",
       "       1., 1., 1., 1., 1., 1., 1., 1., 1., 1., 1., 1., 1., 1., 1., 1., 1.])"
      ]
     },
     "execution_count": 1335,
     "metadata": {},
     "output_type": "execute_result"
    }
   ],
   "source": [
    "agent_1_tweets[trial]"
   ]
  },
  {
   "cell_type": "code",
   "execution_count": 1336,
   "id": "charming-violin",
   "metadata": {},
   "outputs": [],
   "source": [
    "agent_1_reads = [result['all_tweets'][trial,t,int(s)] for t, s in enumerate(agent_1_samplings[trial])]\n"
   ]
  },
  {
   "cell_type": "code",
   "execution_count": 1337,
   "id": "proof-tradition",
   "metadata": {},
   "outputs": [
    {
     "data": {
      "text/plain": [
       "array([7., 7., 0., 4., 7., 0., 4., 7., 0., 4., 7., 0., 4., 7., 0., 4., 7.,\n",
       "       0., 4., 7., 0., 4., 7., 0., 4., 0., 7., 4., 0., 4., 7., 0., 4., 0.,\n",
       "       4., 7., 0., 4., 0., 4., 7., 0., 4., 0., 4., 7., 0., 4., 0., 4., 7.])"
      ]
     },
     "execution_count": 1337,
     "metadata": {},
     "output_type": "execute_result"
    }
   ],
   "source": [
    "agent_1_samplings[trial]"
   ]
  },
  {
   "cell_type": "code",
   "execution_count": 1338,
   "id": "useful-precipitation",
   "metadata": {},
   "outputs": [
    {
     "data": {
      "text/plain": [
       "[0.0,\n",
       " 0.0,\n",
       " 1.0,\n",
       " 1.0,\n",
       " 0.0,\n",
       " 1.0,\n",
       " 1.0,\n",
       " 0.0,\n",
       " 1.0,\n",
       " 1.0,\n",
       " 0.0,\n",
       " 1.0,\n",
       " 1.0,\n",
       " 0.0,\n",
       " 1.0,\n",
       " 1.0,\n",
       " 0.0,\n",
       " 1.0,\n",
       " 1.0,\n",
       " 0.0,\n",
       " 1.0,\n",
       " 1.0,\n",
       " 0.0,\n",
       " 1.0,\n",
       " 1.0,\n",
       " 1.0,\n",
       " 0.0,\n",
       " 1.0,\n",
       " 1.0,\n",
       " 1.0,\n",
       " 0.0,\n",
       " 1.0,\n",
       " 1.0,\n",
       " 1.0,\n",
       " 1.0,\n",
       " 0.0,\n",
       " 1.0,\n",
       " 1.0,\n",
       " 1.0,\n",
       " 1.0,\n",
       " 0.0,\n",
       " 1.0,\n",
       " 1.0,\n",
       " 1.0,\n",
       " 1.0,\n",
       " 0.0,\n",
       " 1.0,\n",
       " 1.0,\n",
       " 1.0,\n",
       " 1.0,\n",
       " 0.0]"
      ]
     },
     "execution_count": 1338,
     "metadata": {},
     "output_type": "execute_result"
    }
   ],
   "source": [
    "agent_1_reads"
   ]
  },
  {
   "cell_type": "code",
   "execution_count": 1339,
   "id": "processed-console",
   "metadata": {},
   "outputs": [],
   "source": [
    "behaviour = [( agent_1_tweets[trial][t], agent_1_reads[t], agent_1_beliefs[trial,:,0][t], (agent_1_beliefs[trial,:,0][t] - agent_1_beliefs[trial,:,0][t-1] > 0)) for t in range(1,len(agent_1_reads)-1)]"
   ]
  },
  {
   "cell_type": "code",
   "execution_count": 1340,
   "id": "hindu-quantum",
   "metadata": {},
   "outputs": [
    {
     "data": {
      "text/plain": [
       "[(0.0, 0.0, 0.6329719911261237, True),\n",
       " (0.0, 1.0, 0.5933647335336677, False),\n",
       " (0.0, 1.0, 0.550592011692205, False),\n",
       " (0.0, 0.0, 0.5983485476997599, True),\n",
       " (0.0, 1.0, 0.5587968908410168, False),\n",
       " (0.0, 1.0, 0.5168887196070476, False),\n",
       " (0.0, 0.0, 0.56295080457362, True),\n",
       " (0.0, 1.0, 0.5212966467127078, False),\n",
       " (0.0, 1.0, 0.47729986323231094, False),\n",
       " (1.0, 0.0, 0.521244620338583, True),\n",
       " (0.0, 1.0, 0.4772461597267177, False),\n",
       " (1.0, 1.0, 0.4309191172215409, False),\n",
       " (1.0, 0.0, 0.4722320543367332, True),\n",
       " (1.0, 1.0, 0.4256510755558601, False),\n",
       " (1.0, 1.0, 0.37680290526738636, False),\n",
       " (1.0, 0.0, 0.4147952125363344, True),\n",
       " (1.0, 1.0, 0.3654567380741589, False),\n",
       " (1.0, 1.0, 0.3141202232739144, False),\n",
       " (1.0, 0.0, 0.3478198236672538, True),\n",
       " (1.0, 1.0, 0.29591164141359383, False),\n",
       " (1.0, 1.0, 0.24296924754874877, False),\n",
       " (1.0, 0.0, 0.2710293722822146, True),\n",
       " (1.0, 1.0, 0.21810565586670977, False),\n",
       " (1.0, 1.0, 0.16683705481839148, False),\n",
       " (1.0, 1.0, 0.1270554661723254, False),\n",
       " (1.0, 0.0, 0.1437640137259051, True),\n",
       " (1.0, 1.0, 0.10042226310683024, False),\n",
       " (1.0, 1.0, 0.06601108719482099, False),\n",
       " (1.0, 1.0, 0.044423233122367865, False),\n",
       " (1.0, 0.0, 0.0507826164683484, True),\n",
       " (1.0, 1.0, 0.030711310688356835, False),\n",
       " (1.0, 1.0, 0.018015392237260952, False),\n",
       " (1.0, 1.0, 0.011244370632531846, False),\n",
       " (1.0, 1.0, 0.006936843402040417, False),\n",
       " (1.0, 0.0, 0.007971558168580866, True),\n",
       " (1.0, 1.0, 0.004491344063576511, False),\n",
       " (1.0, 1.0, 0.0025150163186691684, False),\n",
       " (1.0, 1.0, 0.001528227789517208, False),\n",
       " (1.0, 1.0, 0.000927085981865842, False),\n",
       " (1.0, 0.0, 0.00106703218462734, True),\n",
       " (1.0, 1.0, 0.0005941035010922919, False),\n",
       " (1.0, 1.0, 0.00033070543483384356, False),\n",
       " (1.0, 1.0, 0.00020057535319541612, False),\n",
       " (1.0, 1.0, 0.00012181741639177684, False),\n",
       " (1.0, 0.0, 0.00014104840507523037, True),\n",
       " (1.0, 1.0, 7.879894808222553e-05, False),\n",
       " (1.0, 1.0, 4.4220346233097606e-05, False),\n",
       " (1.0, 1.0, 2.723959131850851e-05, False),\n",
       " (1.0, 1.0, 1.6971310288388097e-05, False)]"
      ]
     },
     "execution_count": 1340,
     "metadata": {},
     "output_type": "execute_result"
    }
   ],
   "source": [
    "behaviour"
   ]
  },
  {
   "cell_type": "code",
   "execution_count": null,
   "id": "corresponding-leone",
   "metadata": {},
   "outputs": [],
   "source": []
  },
  {
   "cell_type": "code",
   "execution_count": null,
   "id": "rough-funeral",
   "metadata": {},
   "outputs": [],
   "source": []
  },
  {
   "cell_type": "code",
   "execution_count": null,
   "id": "amino-battery",
   "metadata": {},
   "outputs": [],
   "source": []
  },
  {
   "cell_type": "code",
   "execution_count": null,
   "id": "spatial-batch",
   "metadata": {},
   "outputs": [],
   "source": []
  },
  {
   "cell_type": "code",
   "execution_count": null,
   "id": "raising-complex",
   "metadata": {},
   "outputs": [],
   "source": []
  },
  {
   "cell_type": "code",
   "execution_count": null,
   "id": "becoming-ethnic",
   "metadata": {},
   "outputs": [],
   "source": []
  }
 ],
 "metadata": {
  "kernelspec": {
   "display_name": "Python 3",
   "language": "python",
   "name": "python3"
  },
  "language_info": {
   "codemirror_mode": {
    "name": "ipython",
    "version": 3
   },
   "file_extension": ".py",
   "mimetype": "text/x-python",
   "name": "python",
   "nbconvert_exporter": "python",
   "pygments_lexer": "ipython3",
   "version": "3.8.5"
  }
 },
 "nbformat": 4,
 "nbformat_minor": 5
}
