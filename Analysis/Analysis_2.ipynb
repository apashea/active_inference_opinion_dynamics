{
 "cells": [
  {
   "cell_type": "code",
   "execution_count": 1,
   "id": "initial-electron",
   "metadata": {},
   "outputs": [],
   "source": [
    "from param_analysis import ParameterAnalysis\n",
    "from plots import *"
   ]
  },
  {
   "cell_type": "code",
   "execution_count": 2,
   "id": "focused-teacher",
   "metadata": {},
   "outputs": [],
   "source": [
    "import numpy as np\n",
    "import matplotlib.pyplot as plt"
   ]
  },
  {
   "cell_type": "code",
   "execution_count": 3,
   "id": "popular-variation",
   "metadata": {},
   "outputs": [],
   "source": [
    "\n",
    "connectedness_values = [0.2,0.3,0.4,0.6,0.8]\n",
    "ecb_precision_gammas = [1,2,3,4,5,6,7,8,9]\n",
    "\n",
    "num_agent_values = [4,6,8,10]\n",
    "\n",
    "\n",
    "env_precision_gammas = [10]\n",
    "b_precision_gammas = [5]\n",
    "\n",
    "n_trials = 30"
   ]
  },
  {
   "cell_type": "code",
   "execution_count": 4,
   "id": "remarkable-sight",
   "metadata": {},
   "outputs": [],
   "source": [
    "params = ParameterAnalysis('results/all_results3.npz','results/params2.npz', num_agent_values, connectedness_values, ecb_precision_gammas, env_precision_gammas, b_precision_gammas, n_trials)"
   ]
  },
  {
   "cell_type": "code",
   "execution_count": 5,
   "id": "immediate-radio",
   "metadata": {},
   "outputs": [],
   "source": [
    "params.n_d.value = num_agent_values[1]\n",
    "params.env_d.value = env_precision_gammas[0]\n",
    "params.b_d.value = b_precision_gammas[0]\n",
    "params.c_d.value = connectedness_values[1]\n",
    "params.ecb_d.value = ecb_precision_gammas[-2]"
   ]
  },
  {
   "cell_type": "code",
   "execution_count": 6,
   "id": "dominican-agriculture",
   "metadata": {},
   "outputs": [
    {
     "name": "stderr",
     "output_type": "stream",
     "text": [
      "/vol/bitbucket/att21/venv/lib/python3.8/site-packages/numpy/core/fromnumeric.py:3419: RuntimeWarning: Mean of empty slice.\n",
      "  return _methods._mean(a, axis=axis, dtype=dtype,\n",
      "/vol/bitbucket/att21/venv/lib/python3.8/site-packages/numpy/core/_methods.py:180: RuntimeWarning: invalid value encountered in true_divide\n",
      "  ret = um.true_divide(\n",
      "/vol/bitbucket/att21/venv/lib/python3.8/site-packages/numpy/core/_methods.py:188: RuntimeWarning: invalid value encountered in double_scalars\n",
      "  ret = ret.dtype.type(ret / rcount)\n"
     ]
    }
   ],
   "source": [
    "params.get_overall_metrics()"
   ]
  },
  {
   "cell_type": "code",
   "execution_count": 7,
   "id": "transparent-share",
   "metadata": {},
   "outputs": [],
   "source": [
    "#What is happening to the individual agents in a simulation that forms clusters? "
   ]
  },
  {
   "cell_type": "code",
   "execution_count": 7,
   "id": "seventh-ballet",
   "metadata": {},
   "outputs": [
    {
     "name": "stdout",
     "output_type": "stream",
     "text": [
      "Lowest DB index\n",
      "(8, 0.2, 9, 5, 10)\n",
      "0.008470608982432817\n"
     ]
    }
   ],
   "source": [
    "lowest_db_index = np.where(params.db_indices == min(params.db_indices))[0][0]\n",
    "\n",
    "print(\"Lowest DB index\")\n",
    "db_params = list(params.get_param_combinations())[lowest_db_index]\n",
    "print(db_params)\n",
    "print(params.db_indices[lowest_db_index])"
   ]
  },
  {
   "cell_type": "code",
   "execution_count": 8,
   "id": "accredited-chess",
   "metadata": {},
   "outputs": [
    {
     "data": {
      "text/plain": [
       "(30, 50, 2, 10)"
      ]
     },
     "execution_count": 8,
     "metadata": {},
     "output_type": "execute_result"
    }
   ],
   "source": [
    "params.all_qs.shape"
   ]
  },
  {
   "cell_type": "code",
   "execution_count": 9,
   "id": "decreased-thesaurus",
   "metadata": {},
   "outputs": [],
   "source": [
    "clustering_data = {}\n",
    "\n",
    "for c in connectedness_values:\n",
    "    #find all parameter combinations with this connectedness value\n",
    "    c_indices = np.where(np.isin(np.array(list(params.get_param_combinations()))[:,1],c))[0]\n",
    "    #what are the db indices for these parameters?\n",
    "    c_db_indices = params.db_indices[c_indices]\n",
    "    #what is the smallest one?\n",
    "    lowest_db_index = np.where(c_db_indices == min(c_db_indices))[0][0]\n",
    "    highest_db_index = np.where(c_db_indices == max(c_db_indices))[0][0]\n",
    "    #print(c_db_indices[lowest_db_index])\n",
    "    \n",
    "    #what is the parameter combination that results in the smallest one?\n",
    "    optimal_params = list(params.get_param_combinations())[c_indices[lowest_db_index]]\n",
    "    suboptimal_params = list(params.get_param_combinations())[c_indices[highest_db_index]]\n",
    "    \n",
    "    clustering_data[c] = {\"optimal_params\" : optimal_params, \"lowest_db\":c_db_indices[lowest_db_index],\n",
    "                         \"suboptimal_params\": suboptimal_params, \"highest_db\" : c_db_indices[highest_db_index]}\n",
    "\n"
   ]
  },
  {
   "cell_type": "code",
   "execution_count": 10,
   "id": "sublime-matrix",
   "metadata": {},
   "outputs": [],
   "source": [
    "#officially confirmed that high ECB leads to clustering, low ECB leads to no clustering. \n",
    "#any sparseness can lead to clustering, but generally lots of agents in a sparse graphleads to clustering, and less agents in a non sparse graph leads to no clustering\n",
    "\n",
    "#the question now is: why?"
   ]
  },
  {
   "cell_type": "code",
   "execution_count": 11,
   "id": "adaptive-compiler",
   "metadata": {},
   "outputs": [
    {
     "data": {
      "text/plain": [
       "{0.2: {'optimal_params': (8, 0.2, 9, 5, 10),\n",
       "  'lowest_db': 0.008470608982432817,\n",
       "  'suboptimal_params': (4, 0.2, 3, 5, 10),\n",
       "  'highest_db': 0.23511091485022068},\n",
       " 0.3: {'optimal_params': (10, 0.3, 9, 5, 10),\n",
       "  'lowest_db': 0.018684413448631976,\n",
       "  'suboptimal_params': (6, 0.3, 2, 5, 10),\n",
       "  'highest_db': 0.25413951010268915},\n",
       " 0.4: {'optimal_params': (10, 0.4, 9, 5, 10),\n",
       "  'lowest_db': 0.01401880950085962,\n",
       "  'suboptimal_params': (10, 0.4, 2, 5, 10),\n",
       "  'highest_db': 0.19985102993542567},\n",
       " 0.6: {'optimal_params': (10, 0.6, 9, 5, 10),\n",
       "  'lowest_db': 0.009453297162992138,\n",
       "  'suboptimal_params': (4, 0.6, 5, 5, 10),\n",
       "  'highest_db': 0.19949470333235503},\n",
       " 0.8: {'optimal_params': (10, 0.8, 9, 5, 10),\n",
       "  'lowest_db': 0.011947910922676901,\n",
       "  'suboptimal_params': (8, 0.8, 2, 5, 10),\n",
       "  'highest_db': 0.2192160625402307}}"
      ]
     },
     "execution_count": 11,
     "metadata": {},
     "output_type": "execute_result"
    }
   ],
   "source": [
    "clustering_data"
   ]
  },
  {
   "cell_type": "code",
   "execution_count": 78,
   "id": "sunset-arena",
   "metadata": {},
   "outputs": [
    {
     "ename": "IndexError",
     "evalue": "index 2 is out of bounds for axis 1 with size 1",
     "output_type": "error",
     "traceback": [
      "\u001b[0;31m---------------------------------------------------------------------------\u001b[0m",
      "\u001b[0;31mIndexError\u001b[0m                                Traceback (most recent call last)",
      "\u001b[0;32m<ipython-input-78-e16e8f2b8387>\u001b[0m in \u001b[0;36m<module>\u001b[0;34m\u001b[0m\n\u001b[1;32m      2\u001b[0m \u001b[0moptimal_params\u001b[0m \u001b[0;34m=\u001b[0m \u001b[0;34m[\u001b[0m\u001b[0;36m8\u001b[0m\u001b[0;34m,\u001b[0m \u001b[0;36m0.2\u001b[0m\u001b[0;34m,\u001b[0m \u001b[0;36m9\u001b[0m\u001b[0;34m,\u001b[0m \u001b[0;36m5\u001b[0m\u001b[0;34m,\u001b[0m \u001b[0;36m10\u001b[0m\u001b[0;34m]\u001b[0m\u001b[0;34m\u001b[0m\u001b[0;34m\u001b[0m\u001b[0m\n\u001b[1;32m      3\u001b[0m \u001b[0mparams\u001b[0m\u001b[0;34m.\u001b[0m\u001b[0mupdate_params\u001b[0m\u001b[0;34m(\u001b[0m\u001b[0moptimal_params\u001b[0m\u001b[0;34m)\u001b[0m\u001b[0;34m\u001b[0m\u001b[0;34m\u001b[0m\u001b[0m\n\u001b[0;32m----> 4\u001b[0;31m \u001b[0mparams\u001b[0m\u001b[0;34m.\u001b[0m\u001b[0mget_all_sim_results_from_parameters\u001b[0m\u001b[0;34m(\u001b[0m\u001b[0;34m)\u001b[0m\u001b[0;34m\u001b[0m\u001b[0;34m\u001b[0m\u001b[0m\n\u001b[0m\u001b[1;32m      5\u001b[0m \u001b[0mbeliefs\u001b[0m \u001b[0;34m=\u001b[0m \u001b[0mparams_b\u001b[0m\u001b[0;34m.\u001b[0m\u001b[0mall_qs\u001b[0m\u001b[0;34m\u001b[0m\u001b[0;34m\u001b[0m\u001b[0m\n",
      "\u001b[0;32m~/active_inference_opinion_dynamics/Analysis/param_analysis.py\u001b[0m in \u001b[0;36mget_all_sim_results_from_parameters\u001b[0;34m(self)\u001b[0m\n\u001b[1;32m     76\u001b[0m         \u001b[0menv_i\u001b[0m \u001b[0;34m=\u001b[0m \u001b[0mself\u001b[0m\u001b[0;34m.\u001b[0m\u001b[0menv_precision_gammas\u001b[0m\u001b[0;34m.\u001b[0m\u001b[0mindex\u001b[0m\u001b[0;34m(\u001b[0m\u001b[0mself\u001b[0m\u001b[0;34m.\u001b[0m\u001b[0menv_d\u001b[0m\u001b[0;34m.\u001b[0m\u001b[0mvalue\u001b[0m\u001b[0;34m)\u001b[0m\u001b[0;34m\u001b[0m\u001b[0;34m\u001b[0m\u001b[0m\n\u001b[1;32m     77\u001b[0m         \u001b[0mbel_i\u001b[0m \u001b[0;34m=\u001b[0m \u001b[0mself\u001b[0m\u001b[0;34m.\u001b[0m\u001b[0mb_precision_gammas\u001b[0m\u001b[0;34m.\u001b[0m\u001b[0mindex\u001b[0m\u001b[0;34m(\u001b[0m\u001b[0mself\u001b[0m\u001b[0;34m.\u001b[0m\u001b[0mb_d\u001b[0m\u001b[0;34m.\u001b[0m\u001b[0mvalue\u001b[0m\u001b[0;34m)\u001b[0m\u001b[0;34m\u001b[0m\u001b[0;34m\u001b[0m\u001b[0m\n\u001b[0;32m---> 78\u001b[0;31m         \u001b[0madj_mat\u001b[0m \u001b[0;34m=\u001b[0m \u001b[0mnp\u001b[0m\u001b[0;34m.\u001b[0m\u001b[0marray\u001b[0m\u001b[0;34m(\u001b[0m\u001b[0;34m[\u001b[0m\u001b[0mself\u001b[0m\u001b[0;34m.\u001b[0m\u001b[0msim_results\u001b[0m\u001b[0;34m[\u001b[0m\u001b[0mi\u001b[0m\u001b[0;34m,\u001b[0m\u001b[0mn_i\u001b[0m\u001b[0;34m,\u001b[0m\u001b[0mc_i\u001b[0m\u001b[0;34m,\u001b[0m\u001b[0mecb_i\u001b[0m\u001b[0;34m,\u001b[0m\u001b[0menv_i\u001b[0m\u001b[0;34m,\u001b[0m\u001b[0mbel_i\u001b[0m\u001b[0;34m]\u001b[0m\u001b[0;34m[\u001b[0m\u001b[0;36m0\u001b[0m\u001b[0;34m]\u001b[0m \u001b[0;32mfor\u001b[0m \u001b[0mi\u001b[0m \u001b[0;32min\u001b[0m \u001b[0mrange\u001b[0m\u001b[0;34m(\u001b[0m\u001b[0mself\u001b[0m\u001b[0;34m.\u001b[0m\u001b[0mn_trials\u001b[0m\u001b[0;34m)\u001b[0m\u001b[0;34m]\u001b[0m\u001b[0;34m)\u001b[0m\u001b[0;34m\u001b[0m\u001b[0;34m\u001b[0m\u001b[0m\n\u001b[0m\u001b[1;32m     79\u001b[0m         \u001b[0mavg_all_qs\u001b[0m \u001b[0;34m=\u001b[0m \u001b[0mnp\u001b[0m\u001b[0;34m.\u001b[0m\u001b[0marray\u001b[0m\u001b[0;34m(\u001b[0m\u001b[0;34m[\u001b[0m\u001b[0mself\u001b[0m\u001b[0;34m.\u001b[0m\u001b[0msim_results\u001b[0m\u001b[0;34m[\u001b[0m\u001b[0mi\u001b[0m\u001b[0;34m,\u001b[0m\u001b[0mn_i\u001b[0m\u001b[0;34m,\u001b[0m\u001b[0mc_i\u001b[0m\u001b[0;34m,\u001b[0m\u001b[0mecb_i\u001b[0m\u001b[0;34m,\u001b[0m\u001b[0menv_i\u001b[0m\u001b[0;34m,\u001b[0m\u001b[0mbel_i\u001b[0m\u001b[0;34m]\u001b[0m\u001b[0;34m[\u001b[0m\u001b[0;36m1\u001b[0m\u001b[0;34m]\u001b[0m \u001b[0;32mfor\u001b[0m \u001b[0mi\u001b[0m \u001b[0;32min\u001b[0m \u001b[0mrange\u001b[0m\u001b[0;34m(\u001b[0m\u001b[0mself\u001b[0m\u001b[0;34m.\u001b[0m\u001b[0mn_trials\u001b[0m\u001b[0;34m)\u001b[0m\u001b[0;34m]\u001b[0m\u001b[0;34m)\u001b[0m\u001b[0;34m\u001b[0m\u001b[0;34m\u001b[0m\u001b[0m\n\u001b[1;32m     80\u001b[0m         \u001b[0mavg_all_tweets\u001b[0m \u001b[0;34m=\u001b[0m \u001b[0mnp\u001b[0m\u001b[0;34m.\u001b[0m\u001b[0marray\u001b[0m\u001b[0;34m(\u001b[0m\u001b[0;34m[\u001b[0m\u001b[0mself\u001b[0m\u001b[0;34m.\u001b[0m\u001b[0msim_results\u001b[0m\u001b[0;34m[\u001b[0m\u001b[0mi\u001b[0m\u001b[0;34m,\u001b[0m\u001b[0mn_i\u001b[0m\u001b[0;34m,\u001b[0m\u001b[0mc_i\u001b[0m\u001b[0;34m,\u001b[0m\u001b[0mecb_i\u001b[0m\u001b[0;34m,\u001b[0m\u001b[0menv_i\u001b[0m\u001b[0;34m,\u001b[0m\u001b[0mbel_i\u001b[0m\u001b[0;34m]\u001b[0m\u001b[0;34m[\u001b[0m\u001b[0;36m2\u001b[0m\u001b[0;34m]\u001b[0m \u001b[0;32mfor\u001b[0m \u001b[0mi\u001b[0m \u001b[0;32min\u001b[0m \u001b[0mrange\u001b[0m\u001b[0;34m(\u001b[0m\u001b[0mself\u001b[0m\u001b[0;34m.\u001b[0m\u001b[0mn_trials\u001b[0m\u001b[0;34m)\u001b[0m\u001b[0;34m]\u001b[0m\u001b[0;34m)\u001b[0m\u001b[0;34m\u001b[0m\u001b[0;34m\u001b[0m\u001b[0m\n",
      "\u001b[0;32m~/active_inference_opinion_dynamics/Analysis/param_analysis.py\u001b[0m in \u001b[0;36m<listcomp>\u001b[0;34m(.0)\u001b[0m\n\u001b[1;32m     76\u001b[0m         \u001b[0menv_i\u001b[0m \u001b[0;34m=\u001b[0m \u001b[0mself\u001b[0m\u001b[0;34m.\u001b[0m\u001b[0menv_precision_gammas\u001b[0m\u001b[0;34m.\u001b[0m\u001b[0mindex\u001b[0m\u001b[0;34m(\u001b[0m\u001b[0mself\u001b[0m\u001b[0;34m.\u001b[0m\u001b[0menv_d\u001b[0m\u001b[0;34m.\u001b[0m\u001b[0mvalue\u001b[0m\u001b[0;34m)\u001b[0m\u001b[0;34m\u001b[0m\u001b[0;34m\u001b[0m\u001b[0m\n\u001b[1;32m     77\u001b[0m         \u001b[0mbel_i\u001b[0m \u001b[0;34m=\u001b[0m \u001b[0mself\u001b[0m\u001b[0;34m.\u001b[0m\u001b[0mb_precision_gammas\u001b[0m\u001b[0;34m.\u001b[0m\u001b[0mindex\u001b[0m\u001b[0;34m(\u001b[0m\u001b[0mself\u001b[0m\u001b[0;34m.\u001b[0m\u001b[0mb_d\u001b[0m\u001b[0;34m.\u001b[0m\u001b[0mvalue\u001b[0m\u001b[0;34m)\u001b[0m\u001b[0;34m\u001b[0m\u001b[0;34m\u001b[0m\u001b[0m\n\u001b[0;32m---> 78\u001b[0;31m         \u001b[0madj_mat\u001b[0m \u001b[0;34m=\u001b[0m \u001b[0mnp\u001b[0m\u001b[0;34m.\u001b[0m\u001b[0marray\u001b[0m\u001b[0;34m(\u001b[0m\u001b[0;34m[\u001b[0m\u001b[0mself\u001b[0m\u001b[0;34m.\u001b[0m\u001b[0msim_results\u001b[0m\u001b[0;34m[\u001b[0m\u001b[0mi\u001b[0m\u001b[0;34m,\u001b[0m\u001b[0mn_i\u001b[0m\u001b[0;34m,\u001b[0m\u001b[0mc_i\u001b[0m\u001b[0;34m,\u001b[0m\u001b[0mecb_i\u001b[0m\u001b[0;34m,\u001b[0m\u001b[0menv_i\u001b[0m\u001b[0;34m,\u001b[0m\u001b[0mbel_i\u001b[0m\u001b[0;34m]\u001b[0m\u001b[0;34m[\u001b[0m\u001b[0;36m0\u001b[0m\u001b[0;34m]\u001b[0m \u001b[0;32mfor\u001b[0m \u001b[0mi\u001b[0m \u001b[0;32min\u001b[0m \u001b[0mrange\u001b[0m\u001b[0;34m(\u001b[0m\u001b[0mself\u001b[0m\u001b[0;34m.\u001b[0m\u001b[0mn_trials\u001b[0m\u001b[0;34m)\u001b[0m\u001b[0;34m]\u001b[0m\u001b[0;34m)\u001b[0m\u001b[0;34m\u001b[0m\u001b[0;34m\u001b[0m\u001b[0m\n\u001b[0m\u001b[1;32m     79\u001b[0m         \u001b[0mavg_all_qs\u001b[0m \u001b[0;34m=\u001b[0m \u001b[0mnp\u001b[0m\u001b[0;34m.\u001b[0m\u001b[0marray\u001b[0m\u001b[0;34m(\u001b[0m\u001b[0;34m[\u001b[0m\u001b[0mself\u001b[0m\u001b[0;34m.\u001b[0m\u001b[0msim_results\u001b[0m\u001b[0;34m[\u001b[0m\u001b[0mi\u001b[0m\u001b[0;34m,\u001b[0m\u001b[0mn_i\u001b[0m\u001b[0;34m,\u001b[0m\u001b[0mc_i\u001b[0m\u001b[0;34m,\u001b[0m\u001b[0mecb_i\u001b[0m\u001b[0;34m,\u001b[0m\u001b[0menv_i\u001b[0m\u001b[0;34m,\u001b[0m\u001b[0mbel_i\u001b[0m\u001b[0;34m]\u001b[0m\u001b[0;34m[\u001b[0m\u001b[0;36m1\u001b[0m\u001b[0;34m]\u001b[0m \u001b[0;32mfor\u001b[0m \u001b[0mi\u001b[0m \u001b[0;32min\u001b[0m \u001b[0mrange\u001b[0m\u001b[0;34m(\u001b[0m\u001b[0mself\u001b[0m\u001b[0;34m.\u001b[0m\u001b[0mn_trials\u001b[0m\u001b[0;34m)\u001b[0m\u001b[0;34m]\u001b[0m\u001b[0;34m)\u001b[0m\u001b[0;34m\u001b[0m\u001b[0;34m\u001b[0m\u001b[0m\n\u001b[1;32m     80\u001b[0m         \u001b[0mavg_all_tweets\u001b[0m \u001b[0;34m=\u001b[0m \u001b[0mnp\u001b[0m\u001b[0;34m.\u001b[0m\u001b[0marray\u001b[0m\u001b[0;34m(\u001b[0m\u001b[0;34m[\u001b[0m\u001b[0mself\u001b[0m\u001b[0;34m.\u001b[0m\u001b[0msim_results\u001b[0m\u001b[0;34m[\u001b[0m\u001b[0mi\u001b[0m\u001b[0;34m,\u001b[0m\u001b[0mn_i\u001b[0m\u001b[0;34m,\u001b[0m\u001b[0mc_i\u001b[0m\u001b[0;34m,\u001b[0m\u001b[0mecb_i\u001b[0m\u001b[0;34m,\u001b[0m\u001b[0menv_i\u001b[0m\u001b[0;34m,\u001b[0m\u001b[0mbel_i\u001b[0m\u001b[0;34m]\u001b[0m\u001b[0;34m[\u001b[0m\u001b[0;36m2\u001b[0m\u001b[0;34m]\u001b[0m \u001b[0;32mfor\u001b[0m \u001b[0mi\u001b[0m \u001b[0;32min\u001b[0m \u001b[0mrange\u001b[0m\u001b[0;34m(\u001b[0m\u001b[0mself\u001b[0m\u001b[0;34m.\u001b[0m\u001b[0mn_trials\u001b[0m\u001b[0;34m)\u001b[0m\u001b[0;34m]\u001b[0m\u001b[0;34m)\u001b[0m\u001b[0;34m\u001b[0m\u001b[0;34m\u001b[0m\u001b[0m\n",
      "\u001b[0;31mIndexError\u001b[0m: index 2 is out of bounds for axis 1 with size 1"
     ]
    }
   ],
   "source": [
    "#what does the best clustering look like?\n",
    "optimal_params = [8, 0.2, 9, 5, 10]\n",
    "params.update_params(optimal_params)\n",
    "params.get_all_sim_results_from_parameters()"
   ]
  },
  {
   "cell_type": "code",
   "execution_count": 86,
   "id": "employed-childhood",
   "metadata": {},
   "outputs": [],
   "source": [
    "beliefs = params_b.all_qs"
   ]
  },
  {
   "cell_type": "code",
   "execution_count": 98,
   "id": "overhead-appendix",
   "metadata": {},
   "outputs": [
    {
     "data": {
      "image/png": "[encoded data removed]",
      "text/plain": [
       "<Figure size 432x288 with 1 Axes>"
      ]
     },
     "metadata": {
      "needs_background": "light"
     },
     "output_type": "display_data"
    },
    {
     "data": {
      "text/plain": [
       "<Figure size 432x288 with 0 Axes>"
      ]
     },
     "metadata": {},
     "output_type": "display_data"
    }
   ],
   "source": [
    "kld_matrices = similarity_matrix(beliefs[16,:,:,:])"
   ]
  },
  {
   "cell_type": "code",
   "execution_count": null,
   "id": "outstanding-outline",
   "metadata": {},
   "outputs": [],
   "source": [
    "worst_params = [6, 0.3, 2, 5, 10]\n",
    "params.update_params(worst_params)\n",
    "params.get_all_sim_results_from_parameters()\n",
    "beliefs = params.all_qs\n",
    "kld_matrices = similarity_matrix(beliefs[6,:,:,:])"
   ]
  },
  {
   "cell_type": "code",
   "execution_count": 81,
   "id": "handled-ensemble",
   "metadata": {},
   "outputs": [],
   "source": [
    "def similarity_matrix(belief_hist):\n",
    "    T = belief_hist.shape[0]\n",
    "\n",
    "    KLD_intra_beliefs = get_KLDs(belief_hist)\n",
    "    believers = np.where(belief_hist[-1,0,:] > 0.5)\n",
    "    nonbelievers = np.where(belief_hist[-1,0,:] < 0.5)\n",
    "    cluster_sorted_indices = [i for i in believers[0]]\n",
    "    for j in nonbelievers[0]:\n",
    "        cluster_sorted_indices.append(j)\n",
    "\n",
    "    \n",
    "    color_map = plt.cm.get_cmap('gray').reversed()\n",
    "\n",
    "\n",
    "    single_slice = KLD_intra_beliefs[:,:,-1]\n",
    "    sorted_slice = single_slice[cluster_sorted_indices,:][:,cluster_sorted_indices]\n",
    "    plt.imshow(sorted_slice, cmap = color_map)\n",
    "    plt.title(\"Belief similarity matrix\")\n",
    "    plt.show()\n",
    "    plt.clf()"
   ]
  },
  {
   "cell_type": "code",
   "execution_count": 14,
   "id": "legitimate-somerset",
   "metadata": {},
   "outputs": [],
   "source": [
    "#General question: Do agents who are connected usually end up in the same cluster? \n",
    "\n",
    "#just get two lists, the cluster lists, and then the connnected lists ?"
   ]
  },
  {
   "cell_type": "code",
   "execution_count": 24,
   "id": "tight-compact",
   "metadata": {},
   "outputs": [],
   "source": [
    "\n",
    "connectedness_values = [0.2]\n",
    "ecb_precision_gammas = [9]\n",
    "\n",
    "num_agent_values = [8]\n",
    "\n",
    "n = len(num_agent_values)\n",
    "c = len(connectedness_values)\n",
    "#precision_ranges = [[1,2],[1,5],[1,9],[6,7],[6,10]]\n",
    "env_precision_gammas = [10]\n",
    "b_precision_gammas = [5]\n"
   ]
  },
  {
   "cell_type": "code",
   "execution_count": 25,
   "id": "therapeutic-bonus",
   "metadata": {},
   "outputs": [],
   "source": [
    "params_b = ParameterAnalysis('results/results_best.npz','results/params_best.npz', num_agent_values, connectedness_values, ecb_precision_gammas, env_precision_gammas, b_precision_gammas, n_trials)"
   ]
  },
  {
   "cell_type": "code",
   "execution_count": 26,
   "id": "mediterranean-chrome",
   "metadata": {},
   "outputs": [],
   "source": [
    "params_b.n_d.value = optimal_params[0]\n",
    "params_b.env_d.value = 10\n",
    "params_b.b_d.value = 5\n",
    "params_b.c_d.value = optimal_params[1]\n",
    "params_b.ecb_d.value = optimal_params[2]"
   ]
  },
  {
   "cell_type": "code",
   "execution_count": 27,
   "id": "physical-catering",
   "metadata": {},
   "outputs": [
    {
     "data": {
      "text/plain": [
       "(30, 1, 1, 1, 1, 1)"
      ]
     },
     "execution_count": 27,
     "metadata": {},
     "output_type": "execute_result"
    }
   ],
   "source": [
    "params_b.sim_results.shape"
   ]
  },
  {
   "cell_type": "code",
   "execution_count": 28,
   "id": "equal-commitment",
   "metadata": {},
   "outputs": [],
   "source": [
    "params_b.get_overall_metrics()"
   ]
  },
  {
   "cell_type": "code",
   "execution_count": 43,
   "id": "native-humanitarian",
   "metadata": {},
   "outputs": [
    {
     "data": {
      "text/plain": [
       "[array(7.70134604),\n",
       " array(11.12167304),\n",
       " array(6.44780424),\n",
       " array([[0.73105858, 0.26894142],\n",
       "        [0.26894142, 0.73105858]])]"
      ]
     },
     "execution_count": 43,
     "metadata": {},
     "output_type": "execute_result"
    }
   ],
   "source": [
    "params_b.param_results[29,0,0,0,0,0][3]"
   ]
  },
  {
   "cell_type": "code",
   "execution_count": null,
   "id": "planned-guess",
   "metadata": {},
   "outputs": [],
   "source": []
  },
  {
   "cell_type": "code",
   "execution_count": null,
   "id": "norwegian-duncan",
   "metadata": {},
   "outputs": [],
   "source": []
  },
  {
   "cell_type": "code",
   "execution_count": null,
   "id": "lightweight-integration",
   "metadata": {},
   "outputs": [],
   "source": []
  },
  {
   "cell_type": "code",
   "execution_count": null,
   "id": "caring-delicious",
   "metadata": {},
   "outputs": [],
   "source": []
  },
  {
   "cell_type": "code",
   "execution_count": 23,
   "id": "consolidated-latino",
   "metadata": {},
   "outputs": [],
   "source": [
    "def is_connected(adj_mat):\n",
    "    return np.where(adj_mat == 1)"
   ]
  },
  {
   "cell_type": "code",
   "execution_count": 64,
   "id": "flying-answer",
   "metadata": {},
   "outputs": [
    {
     "ename": "NameError",
     "evalue": "name 'utils' is not defined",
     "output_type": "error",
     "traceback": [
      "\u001b[0;31m---------------------------------------------------------------------------\u001b[0m",
      "\u001b[0;31mNameError\u001b[0m                                 Traceback (most recent call last)",
      "\u001b[0;32m<ipython-input-64-eae57153496e>\u001b[0m in \u001b[0;36m<module>\u001b[0;34m\u001b[0m\n\u001b[0;32m----> 1\u001b[0;31m \u001b[0mutils\u001b[0m\u001b[0;34m.\u001b[0m\u001b[0msoftmax\u001b[0m\u001b[0;34m(\u001b[0m\u001b[0mnp\u001b[0m\u001b[0;34m.\u001b[0m\u001b[0meye\u001b[0m\u001b[0;34m(\u001b[0m\u001b[0;36m2\u001b[0m\u001b[0;34m)\u001b[0m \u001b[0;34m*\u001b[0m \u001b[0;36m1.0\u001b[0m\u001b[0;34m)\u001b[0m\u001b[0;34m\u001b[0m\u001b[0;34m\u001b[0m\u001b[0m\n\u001b[0m",
      "\u001b[0;31mNameError\u001b[0m: name 'utils' is not defined"
     ]
    }
   ],
   "source": [
    "utils.softmax(np.eye(2) * 1.0)"
   ]
  },
  {
   "cell_type": "code",
   "execution_count": 24,
   "id": "serial-executive",
   "metadata": {},
   "outputs": [],
   "source": [
    "#now we want to investigate what happened during the best simulation"
   ]
  },
  {
   "cell_type": "code",
   "execution_count": 44,
   "id": "afraid-detector",
   "metadata": {},
   "outputs": [],
   "source": [
    "result = params_b.get_all_sim_results_from_parameters()"
   ]
  },
  {
   "cell_type": "code",
   "execution_count": 45,
   "id": "metallic-tutorial",
   "metadata": {},
   "outputs": [],
   "source": [
    "all_beliefs = result['all_qs']"
   ]
  },
  {
   "cell_type": "code",
   "execution_count": 60,
   "id": "original-section",
   "metadata": {},
   "outputs": [
    {
     "data": {
      "text/plain": [
       "array([0.70191633])"
      ]
     },
     "execution_count": 60,
     "metadata": {},
     "output_type": "execute_result"
    }
   ],
   "source": [
    "params_b.db_indices"
   ]
  },
  {
   "cell_type": "code",
   "execution_count": 74,
   "id": "metallic-moral",
   "metadata": {},
   "outputs": [],
   "source": [
    "trial = 10"
   ]
  },
  {
   "cell_type": "code",
   "execution_count": 75,
   "id": "illegal-population",
   "metadata": {},
   "outputs": [],
   "source": [
    "#what are the clusters? \n",
    "all_beliefs_t = all_beliefs[trial,:,:,:] \n",
    "cluster1 = np.where(all_beliefs_t[-1,0,:] > 0.5)\n",
    "cluster2 = np.where(all_beliefs_t[-1,0,:] < 0.5)"
   ]
  },
  {
   "cell_type": "code",
   "execution_count": 76,
   "id": "arranged-hours",
   "metadata": {},
   "outputs": [
    {
     "data": {
      "text/plain": [
       "(array([4, 6]),)"
      ]
     },
     "execution_count": 76,
     "metadata": {},
     "output_type": "execute_result"
    }
   ],
   "source": [
    "cluster1"
   ]
  },
  {
   "cell_type": "code",
   "execution_count": 77,
   "id": "overall-bundle",
   "metadata": {},
   "outputs": [
    {
     "data": {
      "text/plain": [
       "(array([0, 1, 2, 3, 5, 7]),)"
      ]
     },
     "execution_count": 77,
     "metadata": {},
     "output_type": "execute_result"
    }
   ],
   "source": [
    "cluster2"
   ]
  },
  {
   "cell_type": "code",
   "execution_count": 32,
   "id": "combined-desktop",
   "metadata": {},
   "outputs": [],
   "source": [
    "#let's examine one agent \n",
    "agent_1_adj_mat = result['adj_mat'][:,0,:]\n",
    "agent_1_beliefs = result['all_qs'][:,:,:,0]\n",
    "agent_1_samplings = result['all_neighbour_sampling'][:,:,0]\n",
    "agent_1_tweets = result['all_tweets'][:,:,0]"
   ]
  },
  {
   "cell_type": "code",
   "execution_count": 33,
   "id": "fatty-hindu",
   "metadata": {},
   "outputs": [
    {
     "data": {
      "text/plain": [
       "(30, 51, 8)"
      ]
     },
     "execution_count": 33,
     "metadata": {},
     "output_type": "execute_result"
    }
   ],
   "source": [
    "result['all_tweets'].shape"
   ]
  },
  {
   "cell_type": "code",
   "execution_count": 34,
   "id": "reserved-attraction",
   "metadata": {},
   "outputs": [],
   "source": [
    "neighbours = list(is_connected(agent_1_adj_mat[0])[0])"
   ]
  },
  {
   "cell_type": "code",
   "execution_count": 35,
   "id": "unauthorized-kingdom",
   "metadata": {},
   "outputs": [
    {
     "data": {
      "text/plain": [
       "[2, 3, 6, 7]"
      ]
     },
     "execution_count": 35,
     "metadata": {},
     "output_type": "execute_result"
    }
   ],
   "source": [
    "neighbours"
   ]
  },
  {
   "cell_type": "code",
   "execution_count": 36,
   "id": "confident-offset",
   "metadata": {},
   "outputs": [],
   "source": [
    "neighbours_in_cluster = [6]"
   ]
  },
  {
   "cell_type": "code",
   "execution_count": 37,
   "id": "uniform-nancy",
   "metadata": {},
   "outputs": [],
   "source": [
    "#let's examine by timestep and trial\n",
    "trial = 29"
   ]
  },
  {
   "cell_type": "code",
   "execution_count": 38,
   "id": "removed-membrane",
   "metadata": {},
   "outputs": [
    {
     "data": {
      "text/plain": [
       "array([0., 0., 1., 1., 0., 0., 1., 1.])"
      ]
     },
     "execution_count": 38,
     "metadata": {},
     "output_type": "execute_result"
    }
   ],
   "source": [
    "agent_1_adj_mat[trial]"
   ]
  },
  {
   "cell_type": "code",
   "execution_count": 39,
   "id": "equal-administration",
   "metadata": {},
   "outputs": [
    {
     "data": {
      "text/plain": [
       "array([0.52555634, 0.58533325, 0.54600396, 0.63458808, 0.59682152,\n",
       "       0.55310936, 0.62168237, 0.57539327, 0.53933584, 0.4974137 ,\n",
       "       0.45095722, 0.40196847, 0.35508665, 0.39560673, 0.43909577,\n",
       "       0.38931917, 0.34183073, 0.29577339, 0.25354451, 0.21469814,\n",
       "       0.23510157, 0.19863717, 0.21879381, 0.18411801, 0.15373426,\n",
       "       0.12729452, 0.10478116, 0.11384827, 0.10430214, 0.09319521,\n",
       "       0.08109066, 0.06885552, 0.05731817, 0.04702111, 0.03850028,\n",
       "       0.03146316, 0.02556451, 0.02074855, 0.02284531, 0.01856084,\n",
       "       0.01502975, 0.01216238, 0.00982769, 0.00792628, 0.00639069,\n",
       "       0.00694762, 0.00560825, 0.00452261, 0.0036467 , 0.00293692])"
      ]
     },
     "execution_count": 39,
     "metadata": {},
     "output_type": "execute_result"
    }
   ],
   "source": [
    "agent_1_beliefs[trial,:,0]"
   ]
  },
  {
   "cell_type": "code",
   "execution_count": 40,
   "id": "hired-occupation",
   "metadata": {},
   "outputs": [
    {
     "data": {
      "text/plain": [
       "array([3., 3., 7., 7., 2., 2., 6., 2., 7., 7., 7., 2., 7., 6., 3., 2., 7.,\n",
       "       2., 7., 2., 6., 7., 3., 2., 7., 2., 7., 6., 3., 3., 3., 3., 3., 3.,\n",
       "       2., 7., 3., 2., 6., 7., 3., 2., 7., 3., 2., 6., 7., 3., 2., 7., 3.])"
      ]
     },
     "execution_count": 40,
     "metadata": {},
     "output_type": "execute_result"
    }
   ],
   "source": [
    "agent_1_samplings[trial]"
   ]
  },
  {
   "cell_type": "code",
   "execution_count": 41,
   "id": "prepared-double",
   "metadata": {},
   "outputs": [
    {
     "data": {
      "text/plain": [
       "array([1., 1., 0., 0., 0., 0., 0., 0., 0., 0., 1., 1., 1., 1., 1., 1., 1.,\n",
       "       1., 1., 1., 1., 1., 1., 1., 1., 1., 1., 1., 1., 1., 1., 1., 1., 1.,\n",
       "       1., 1., 1., 1., 1., 1., 1., 1., 1., 1., 1., 1., 1., 1., 1., 1., 1.])"
      ]
     },
     "execution_count": 41,
     "metadata": {},
     "output_type": "execute_result"
    }
   ],
   "source": [
    "agent_1_tweets[trial]"
   ]
  },
  {
   "cell_type": "code",
   "execution_count": 42,
   "id": "charming-violin",
   "metadata": {},
   "outputs": [],
   "source": [
    "agent_1_reads = [result['all_tweets'][trial,t,int(s)] for t, s in enumerate(agent_1_samplings[trial])]\n"
   ]
  },
  {
   "cell_type": "code",
   "execution_count": 43,
   "id": "controversial-melbourne",
   "metadata": {},
   "outputs": [
    {
     "data": {
      "text/plain": [
       "[1.0,\n",
       " 1.0,\n",
       " 0.0,\n",
       " 1.0,\n",
       " 0.0,\n",
       " 0.0,\n",
       " 1.0,\n",
       " 0.0,\n",
       " 0.0,\n",
       " 0.0,\n",
       " 0.0,\n",
       " 0.0,\n",
       " 0.0,\n",
       " 1.0,\n",
       " 1.0,\n",
       " 0.0,\n",
       " 0.0,\n",
       " 0.0,\n",
       " 0.0,\n",
       " 0.0,\n",
       " 1.0,\n",
       " 0.0,\n",
       " 1.0,\n",
       " 0.0,\n",
       " 0.0,\n",
       " 0.0,\n",
       " 0.0,\n",
       " 1.0,\n",
       " 0.0,\n",
       " 0.0,\n",
       " 0.0,\n",
       " 0.0,\n",
       " 0.0,\n",
       " 0.0,\n",
       " 0.0,\n",
       " 0.0,\n",
       " 0.0,\n",
       " 0.0,\n",
       " 1.0,\n",
       " 0.0,\n",
       " 0.0,\n",
       " 0.0,\n",
       " 0.0,\n",
       " 0.0,\n",
       " 0.0,\n",
       " 1.0,\n",
       " 0.0,\n",
       " 0.0,\n",
       " 0.0,\n",
       " 0.0,\n",
       " 0.0]"
      ]
     },
     "execution_count": 43,
     "metadata": {},
     "output_type": "execute_result"
    }
   ],
   "source": [
    "list(agent_1_reads)"
   ]
  },
  {
   "cell_type": "code",
   "execution_count": 44,
   "id": "processed-console",
   "metadata": {},
   "outputs": [],
   "source": [
    "behaviour = [( agent_1_tweets[trial][t], agent_1_reads[t], agent_1_beliefs[trial,:,0][t], (agent_1_beliefs[trial,:,0][t] - agent_1_beliefs[trial,:,0][t-1] > 0)) for t in range(1,len(agent_1_reads)-1)]"
   ]
  },
  {
   "cell_type": "code",
   "execution_count": 45,
   "id": "hindu-quantum",
   "metadata": {},
   "outputs": [
    {
     "data": {
      "text/plain": [
       "[(1.0, 1.0, 0.5853332496341213, True),\n",
       " (0.0, 0.0, 0.5460039644182318, False),\n",
       " (0.0, 1.0, 0.6345880817490547, True),\n",
       " (0.0, 0.0, 0.5968215172264043, False),\n",
       " (0.0, 0.0, 0.5531093604155469, False),\n",
       " (0.0, 1.0, 0.6216823736991259, True),\n",
       " (0.0, 0.0, 0.5753932677543248, False),\n",
       " (0.0, 0.0, 0.5393358419179314, False),\n",
       " (0.0, 0.0, 0.4974137016337946, False),\n",
       " (1.0, 0.0, 0.45095722291484563, False),\n",
       " (1.0, 0.0, 0.4019684663059338, False),\n",
       " (1.0, 0.0, 0.3550866517057321, False),\n",
       " (1.0, 1.0, 0.39560673468942603, True),\n",
       " (1.0, 1.0, 0.43909576660059985, True),\n",
       " (1.0, 0.0, 0.3893191708684024, False),\n",
       " (1.0, 0.0, 0.34183072800675235, False),\n",
       " (1.0, 0.0, 0.29577338718358626, False),\n",
       " (1.0, 0.0, 0.25354451326251354, False),\n",
       " (1.0, 0.0, 0.21469813553355557, False),\n",
       " (1.0, 1.0, 0.2351015685901186, True),\n",
       " (1.0, 0.0, 0.19863717022775532, False),\n",
       " (1.0, 1.0, 0.21879380852871866, True),\n",
       " (1.0, 0.0, 0.18411801027271657, False),\n",
       " (1.0, 0.0, 0.1537342596024888, False),\n",
       " (1.0, 0.0, 0.1272945165264517, False),\n",
       " (1.0, 0.0, 0.10478116132017498, False),\n",
       " (1.0, 1.0, 0.11384827447438843, True),\n",
       " (1.0, 0.0, 0.10430213861304638, False),\n",
       " (1.0, 0.0, 0.09319521051237628, False),\n",
       " (1.0, 0.0, 0.08109066418260295, False),\n",
       " (1.0, 0.0, 0.06885551510557997, False),\n",
       " (1.0, 0.0, 0.057318166671384826, False),\n",
       " (1.0, 0.0, 0.047021106925758574, False),\n",
       " (1.0, 0.0, 0.038500281529361836, False),\n",
       " (1.0, 0.0, 0.031463157174672476, False),\n",
       " (1.0, 0.0, 0.02556451142790271, False),\n",
       " (1.0, 0.0, 0.02074854661083765, False),\n",
       " (1.0, 1.0, 0.022845308281327532, True),\n",
       " (1.0, 0.0, 0.01856084470581043, False),\n",
       " (1.0, 0.0, 0.01502974593482288, False),\n",
       " (1.0, 0.0, 0.012162383240885819, False),\n",
       " (1.0, 0.0, 0.009827688142488208, False),\n",
       " (1.0, 0.0, 0.007926280075581299, False),\n",
       " (1.0, 0.0, 0.006390688034636762, False),\n",
       " (1.0, 1.0, 0.006947616950811582, True),\n",
       " (1.0, 0.0, 0.005608254547438357, False),\n",
       " (1.0, 0.0, 0.0045226091361165715, False),\n",
       " (1.0, 0.0, 0.003646695726822367, False),\n",
       " (1.0, 0.0, 0.0029369197822129035, False)]"
      ]
     },
     "execution_count": 45,
     "metadata": {},
     "output_type": "execute_result"
    }
   ],
   "source": [
    "behaviour"
   ]
  },
  {
   "cell_type": "code",
   "execution_count": 46,
   "id": "deluxe-processor",
   "metadata": {},
   "outputs": [],
   "source": [
    "#there is something wrong here, which is\n",
    "#whenever I read tweet 0, my beliefs in the idea decrease\n",
    "#whenever my beliefs in the idea are less than 0.5, I tweet 1\n",
    "#why does that happen"
   ]
  },
  {
   "cell_type": "code",
   "execution_count": 47,
   "id": "fantastic-river",
   "metadata": {},
   "outputs": [
    {
     "name": "stdout",
     "output_type": "stream",
     "text": [
      "0.0\n",
      "False\n",
      "\n",
      "1.0\n",
      "True\n",
      "\n",
      "0.0\n",
      "False\n",
      "\n",
      "0.0\n",
      "False\n",
      "\n",
      "1.0\n",
      "True\n",
      "\n",
      "0.0\n",
      "False\n",
      "\n",
      "0.0\n",
      "False\n",
      "\n",
      "0.0\n",
      "False\n",
      "\n",
      "0.0\n",
      "False\n",
      "\n",
      "0.0\n",
      "False\n",
      "\n",
      "0.0\n",
      "False\n",
      "\n",
      "1.0\n",
      "True\n",
      "\n",
      "1.0\n",
      "True\n",
      "\n",
      "0.0\n",
      "False\n",
      "\n",
      "0.0\n",
      "False\n",
      "\n",
      "0.0\n",
      "False\n",
      "\n",
      "0.0\n",
      "False\n",
      "\n",
      "0.0\n",
      "False\n",
      "\n",
      "1.0\n",
      "True\n",
      "\n",
      "0.0\n",
      "False\n",
      "\n",
      "1.0\n",
      "True\n",
      "\n",
      "0.0\n",
      "False\n",
      "\n",
      "0.0\n",
      "False\n",
      "\n",
      "0.0\n",
      "False\n",
      "\n",
      "0.0\n",
      "False\n",
      "\n",
      "1.0\n",
      "True\n",
      "\n",
      "0.0\n",
      "False\n",
      "\n",
      "0.0\n",
      "False\n",
      "\n",
      "0.0\n",
      "False\n",
      "\n",
      "0.0\n",
      "False\n",
      "\n",
      "0.0\n",
      "False\n",
      "\n",
      "0.0\n",
      "False\n",
      "\n",
      "0.0\n",
      "False\n",
      "\n",
      "0.0\n",
      "False\n",
      "\n",
      "0.0\n",
      "False\n",
      "\n",
      "0.0\n",
      "False\n",
      "\n",
      "1.0\n",
      "True\n",
      "\n",
      "0.0\n",
      "False\n",
      "\n",
      "0.0\n",
      "False\n",
      "\n",
      "0.0\n",
      "False\n",
      "\n",
      "0.0\n",
      "False\n",
      "\n",
      "0.0\n",
      "False\n",
      "\n",
      "0.0\n",
      "False\n",
      "\n",
      "1.0\n",
      "True\n",
      "\n",
      "0.0\n",
      "False\n",
      "\n",
      "0.0\n",
      "False\n",
      "\n",
      "0.0\n",
      "False\n",
      "\n",
      "0.0\n",
      "False\n",
      "\n"
     ]
    }
   ],
   "source": [
    "#is there a correlation between tweets and beliefs?\n",
    "for i, tup in enumerate(behaviour[1:]):\n",
    "    print(tup[1])\n",
    "    print(tup[2] - behaviour[i][2] > 0)\n",
    "    print()"
   ]
  },
  {
   "cell_type": "code",
   "execution_count": 48,
   "id": "modern-proposition",
   "metadata": {},
   "outputs": [],
   "source": [
    "#so, with ECB precision of 9!! whether or not your beliefs in the idea increase or decrease is entirely determined by the tweet that you read. \n",
    "\n",
    "#what you tweet is determined by the beliefs. "
   ]
  },
  {
   "cell_type": "code",
   "execution_count": 49,
   "id": "worst-tunisia",
   "metadata": {
    "scrolled": false
   },
   "outputs": [
    {
     "name": "stdout",
     "output_type": "stream",
     "text": [
      "0.5853332496341213\n",
      "1.0\n",
      "\n",
      "0.5460039644182318\n",
      "0.0\n",
      "\n",
      "0.6345880817490547\n",
      "0.0\n",
      "\n",
      "0.5968215172264043\n",
      "0.0\n",
      "\n",
      "0.5531093604155469\n",
      "0.0\n",
      "\n",
      "0.6216823736991259\n",
      "0.0\n",
      "\n",
      "0.5753932677543248\n",
      "0.0\n",
      "\n",
      "0.5393358419179314\n",
      "0.0\n",
      "\n",
      "0.4974137016337946\n",
      "0.0\n",
      "\n",
      "0.45095722291484563\n",
      "1.0\n",
      "\n",
      "0.4019684663059338\n",
      "1.0\n",
      "\n",
      "0.3550866517057321\n",
      "1.0\n",
      "\n",
      "0.39560673468942603\n",
      "1.0\n",
      "\n",
      "0.43909576660059985\n",
      "1.0\n",
      "\n",
      "0.3893191708684024\n",
      "1.0\n",
      "\n",
      "0.34183072800675235\n",
      "1.0\n",
      "\n",
      "0.29577338718358626\n",
      "1.0\n",
      "\n",
      "0.25354451326251354\n",
      "1.0\n",
      "\n",
      "0.21469813553355557\n",
      "1.0\n",
      "\n",
      "0.2351015685901186\n",
      "1.0\n",
      "\n",
      "0.19863717022775532\n",
      "1.0\n",
      "\n",
      "0.21879380852871866\n",
      "1.0\n",
      "\n",
      "0.18411801027271657\n",
      "1.0\n",
      "\n",
      "0.1537342596024888\n",
      "1.0\n",
      "\n",
      "0.1272945165264517\n",
      "1.0\n",
      "\n",
      "0.10478116132017498\n",
      "1.0\n",
      "\n",
      "0.11384827447438843\n",
      "1.0\n",
      "\n",
      "0.10430213861304638\n",
      "1.0\n",
      "\n",
      "0.09319521051237628\n",
      "1.0\n",
      "\n",
      "0.08109066418260295\n",
      "1.0\n",
      "\n",
      "0.06885551510557997\n",
      "1.0\n",
      "\n",
      "0.057318166671384826\n",
      "1.0\n",
      "\n",
      "0.047021106925758574\n",
      "1.0\n",
      "\n",
      "0.038500281529361836\n",
      "1.0\n",
      "\n",
      "0.031463157174672476\n",
      "1.0\n",
      "\n",
      "0.02556451142790271\n",
      "1.0\n",
      "\n",
      "0.02074854661083765\n",
      "1.0\n",
      "\n",
      "0.022845308281327532\n",
      "1.0\n",
      "\n",
      "0.01856084470581043\n",
      "1.0\n",
      "\n",
      "0.01502974593482288\n",
      "1.0\n",
      "\n",
      "0.012162383240885819\n",
      "1.0\n",
      "\n",
      "0.009827688142488208\n",
      "1.0\n",
      "\n",
      "0.007926280075581299\n",
      "1.0\n",
      "\n",
      "0.006390688034636762\n",
      "1.0\n",
      "\n",
      "0.006947616950811582\n",
      "1.0\n",
      "\n",
      "0.005608254547438357\n",
      "1.0\n",
      "\n",
      "0.0045226091361165715\n",
      "1.0\n",
      "\n",
      "0.003646695726822367\n",
      "1.0\n",
      "\n",
      "0.0029369197822129035\n",
      "1.0\n",
      "\n"
     ]
    }
   ],
   "source": [
    "for i, tup in enumerate(behaviour):\n",
    "    print(tup[2])\n",
    "    print(tup[0])\n",
    "    print()"
   ]
  },
  {
   "cell_type": "code",
   "execution_count": 50,
   "id": "labeled-spell",
   "metadata": {},
   "outputs": [
    {
     "data": {
      "text/plain": [
       "8"
      ]
     },
     "execution_count": 50,
     "metadata": {},
     "output_type": "execute_result"
    }
   ],
   "source": [
    "params.n_d.value"
   ]
  },
  {
   "cell_type": "code",
   "execution_count": null,
   "id": "corresponding-leone",
   "metadata": {},
   "outputs": [],
   "source": []
  },
  {
   "cell_type": "code",
   "execution_count": null,
   "id": "rough-funeral",
   "metadata": {},
   "outputs": [],
   "source": []
  },
  {
   "cell_type": "code",
   "execution_count": null,
   "id": "amino-battery",
   "metadata": {},
   "outputs": [],
   "source": []
  },
  {
   "cell_type": "code",
   "execution_count": null,
   "id": "spatial-batch",
   "metadata": {},
   "outputs": [],
   "source": []
  },
  {
   "cell_type": "code",
   "execution_count": null,
   "id": "raising-complex",
   "metadata": {},
   "outputs": [],
   "source": []
  },
  {
   "cell_type": "code",
   "execution_count": null,
   "id": "becoming-ethnic",
   "metadata": {},
   "outputs": [],
   "source": []
  }
 ],
 "metadata": {
  "kernelspec": {
   "display_name": "Python 3",
   "language": "python",
   "name": "python3"
  },
  "language_info": {
   "codemirror_mode": {
    "name": "ipython",
    "version": 3
   },
   "file_extension": ".py",
   "mimetype": "text/x-python",
   "name": "python",
   "nbconvert_exporter": "python",
   "pygments_lexer": "ipython3",
   "version": "3.8.5"
  }
 },
 "nbformat": 4,
 "nbformat_minor": 5
}
